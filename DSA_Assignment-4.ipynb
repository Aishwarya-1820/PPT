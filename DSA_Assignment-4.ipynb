{
 "cells": [
  {
   "cell_type": "markdown",
   "id": "5ff196a7",
   "metadata": {},
   "source": [
    "\n",
    "💡 **Question 1**\n",
    "Given three integer arrays arr1, arr2 and arr3 **sorted** in **strictly increasing** order, return a sorted array of **only** the integers that appeared in **all** three arrays.\n",
    "\n",
    "**Example 1:**\n",
    "\n",
    "Input: arr1 = [1,2,3,4,5], arr2 = [1,2,5,7,9], arr3 = [1,3,4,5,8]\n",
    "\n",
    "Output: [1,5]\n",
    "\n",
    "**Explanation:** Only 1 and 5 appeared in the three arrays.\n"
   ]
  },
  {
   "cell_type": "code",
   "execution_count": 14,
   "id": "f2925bc8",
   "metadata": {},
   "outputs": [
    {
     "name": "stdout",
     "output_type": "stream",
     "text": [
      "Common Elements are: \n",
      "1 5 "
     ]
    }
   ],
   "source": [
    " \n",
    "def findCommon(arr1, arr2, arr3, n1, n2, n3):\n",
    " \n",
    "    # Initialize starting indexes for arr1[], arr2[] and arr3[]\n",
    "    i = 0\n",
    "    j = 0\n",
    "    k = 0\n",
    " \n",
    "    # Declare three variables prev1, prev2, prev3 to track previous element\n",
    "    # Initialize prev1, prev2, prev3 with INT_MIN\n",
    "    prev1 = prev2 = prev3 = -sys.maxsize - 1\n",
    " \n",
    "    # Iterate through three arrays while all arrays have elements\n",
    "    while (i < n1 and j < n2 and k < n3):\n",
    " \n",
    "        # If arr1[i] = prev1 and i < n1, keep incrementing i\n",
    "        while (ar1[i] == prev1 and i < n1-1):\n",
    "            i += 1\n",
    " \n",
    "        # If arr2[j] = prev2 and j < n2, keep incrementing j\n",
    "        while (ar2[j] == prev2 and j < n2):\n",
    "            j += 1\n",
    " \n",
    "        # If arr3[k] = prev3 and k < n3, keep incrementing k\n",
    "        while (ar3[k] == prev3 and k < n3):\n",
    "            k += 1\n",
    " \n",
    "        # If x = y and y = z, update prev1 prev2, prev3 and move ahead in each array\n",
    "        if (arr1[i] == arr2[j] and arr2[j] == arr3[k]):\n",
    "            print(arr1[i], end=\" \")\n",
    "            prev1 = arr1[i]\n",
    "            prev2 = arr2[j]\n",
    "            prev3 = arr3[k]\n",
    "            i += 1\n",
    "            j += 1\n",
    "            k += 1\n",
    " \n",
    "        # If x < y, update prev1\n",
    "        # and increment i\n",
    "        elif (arr1[i] < arr2[j]):\n",
    "            prev1 = arr1[i]\n",
    "            i += 1\n",
    " \n",
    "        # If y < z, update prev2\n",
    "        # and increment j\n",
    "        elif (ar2[j] < arr3[k]):\n",
    "            prev2 = ar2[j]\n",
    "            j += 1\n",
    " \n",
    "        # We reach here when x > y\n",
    "        # and z < y, i.e., z is\n",
    "        # smallest update prev3\n",
    "        # and increment k\n",
    "        else:\n",
    "            prev3 = ar3[k]\n",
    "            k += 1\n",
    " \n",
    " \n",
    "# Driver code\n",
    "ar1 = [1,2,3,4,5]\n",
    "ar2 = [1,2,5,7,9]\n",
    "ar3 = [1,3,4,5,8]\n",
    "n1 = len(ar1)\n",
    "n2 = len(ar2)\n",
    "n3 = len(ar3)\n",
    " \n",
    "print(\"Common Elements are: \")\n",
    "findCommon(ar1, ar2, ar3, n1, n2, n3)"
   ]
  },
  {
   "cell_type": "markdown",
   "id": "543efc4f",
   "metadata": {},
   "source": [
    "\n",
    "💡 **Question 2**\n",
    "\n",
    "Given two **0-indexed** integer arrays nums1 and nums2, return *a list* answer *of size* 2 *where:*\n",
    "\n",
    "- answer[0] *is a list of all **distinct** integers in* nums1 *which are **not** present in* nums2*.*\n",
    "- answer[1] *is a list of all **distinct** integers in* nums2 *which are **not** present in* nums1.\n",
    "\n",
    "**Note** that the integers in the lists may be returned in **any** order.\n",
    "\n",
    "**Example 1:**\n",
    "\n",
    "**Input:** nums1 = [1,2,3], nums2 = [2,4,6]\n",
    "\n",
    "**Output:** [[1,3],[4,6]]\n",
    "\n",
    "**Explanation:**\n",
    "\n",
    "For nums1, nums1[1] = 2 is present at index 0 of nums2, whereas nums1[0] = 1 and nums1[2] = 3 are not present in nums2. Therefore, answer[0] = [1,3].\n",
    "\n",
    "For nums2, nums2[0] = 2 is present at index 1 of nums1, whereas nums2[1] = 4 and nums2[2] = 6 are not present in nums2. Therefore, answer[1] = [4,6].\n"
   ]
  },
  {
   "cell_type": "code",
   "execution_count": 65,
   "id": "9d3a12d8",
   "metadata": {},
   "outputs": [],
   "source": [
    "class Solution(object):\n",
    "    def findDifference(self, nums1, nums2):\n",
    "        \"\"\"\n",
    "        :type nums1: List[int]\n",
    "        :type nums2: List[int]\n",
    "        :rtype: List[List[int]]\n",
    "        \"\"\"\n",
    "        l1=list(set(nums1)-set(nums2))\n",
    "        l2=list(set(nums2)-set(nums1))\n",
    "        return [l1,l2]\n",
    "    \n",
    "nums1 = [1,2,3]\n",
    "nums2 = [2,4,6]\n"
   ]
  },
  {
   "cell_type": "markdown",
   "id": "b9134bf9",
   "metadata": {},
   "source": [
    "\n",
    "💡 **Question 3**\n",
    "Given a 2D integer array matrix, return *the **transpose** of* matrix.\n",
    "\n",
    "The **transpose** of a matrix is the matrix flipped over its main diagonal, switching the matrix's row and column indices.\n",
    "\n",
    "**Example 1:**\n",
    "\n",
    "Input: matrix = [[1,2,3],[4,5,6],[7,8,9]]\n",
    "\n",
    "Output: [[1,4,7],[2,5,8],[3,6,9]]\n"
   ]
  },
  {
   "cell_type": "code",
   "execution_count": 20,
   "id": "3d2a8cec",
   "metadata": {},
   "outputs": [
    {
     "name": "stdout",
     "output_type": "stream",
     "text": [
      "Result matrix is\n",
      "1  4  7  \n",
      "2  5  8  \n",
      "3  6  9  \n"
     ]
    }
   ],
   "source": [
    "# Python3 Program to find transpose of a matrix\n",
    " \n",
    "N = 3\n",
    " \n",
    "# This function stores transpose of A[][] in B[][]\n",
    " \n",
    "def transpose(A, B): \n",
    "    for i in range(N):\n",
    "        for j in range(N):\n",
    "            B[i][j] = A[j][i]\n",
    " \n",
    " \n",
    "# Driver code\n",
    "if __name__ == '__main__':\n",
    "  A = [[1, 2, 3],\n",
    "       [4, 5, 6],\n",
    "       [7, 8, 9]]\n",
    "       \n",
    "  # To store result\n",
    "  B = [[0 for x in range(N)] for y in range(N)]\n",
    " \n",
    "  # Function call\n",
    "  transpose(A, B)\n",
    " \n",
    "  print(\"Result matrix is\")\n",
    "  for i in range(N):\n",
    "      for j in range(N):\n",
    "          print(B[i][j], \" \", end='')\n",
    "      print()"
   ]
  },
  {
   "cell_type": "markdown",
   "id": "628176d0",
   "metadata": {},
   "source": [
    "\n",
    "💡 **Question 4**\n",
    "Given an integer array nums of 2n integers, group these integers into n pairs (a1, b1), (a2, b2), ..., (an, bn) such that the sum of min(ai, bi) for all i is **maximized**. Return *the maximized sum*.\n",
    "\n",
    "**Example 1:**\n",
    "\n",
    "Input: nums = [1,4,3,2]\n",
    "\n",
    "Output: 4\n",
    "\n",
    "**Explanation:** All possible pairings (ignoring the ordering of elements) are:\n",
    "\n",
    "1. (1, 4), (2, 3) -> min(1, 4) + min(2, 3) = 1 + 2 = 3\n",
    "\n",
    "2. (1, 3), (2, 4) -> min(1, 3) + min(2, 4) = 1 + 2 = 3\n",
    "\n",
    "3. (1, 2), (3, 4) -> min(1, 2) + min(3, 4) = 1 + 3 = 4\n",
    "\n",
    "So the maximum possible sum is 4.\n"
   ]
  },
  {
   "cell_type": "code",
   "execution_count": 36,
   "id": "342a9d8f",
   "metadata": {},
   "outputs": [],
   "source": [
    "class Solution(object):\n",
    "    def arrayPairSum(self, nums):\n",
    "        \"\"\"\n",
    "        :type nums: List[int]\n",
    "        :rtype: int\n",
    "        \"\"\"\n",
    "        nums.sort()\n",
    "        result = 0\n",
    "        numsLen = len(nums)\n",
    "        for i in range(0, numsLen - 1, 2):\n",
    "            result += nums[i]\n",
    "        return result"
   ]
  },
  {
   "cell_type": "markdown",
   "id": "54160dc9",
   "metadata": {},
   "source": [
    "\n",
    "💡 **Question 5**\n",
    "\n",
    "You have n coins and you want to build a staircase with these coins. The staircase consists of k rows where the ith row has exactly i coins. The last row of the staircase **may be** incomplete.\n",
    "\n",
    "Given the integer n, return *the number of **complete rows** of the staircase you will build*.\n",
    "\n",
    "**Input:** n = 5\n",
    "\n",
    "**Output:** 2\n",
    "\n",
    "**Explanation:** Because the 3rd row is incomplete, we return 2.\n"
   ]
  },
  {
   "cell_type": "code",
   "execution_count": 56,
   "id": "c28abbf2",
   "metadata": {},
   "outputs": [],
   "source": [
    " def arrangeCoins(self, n: int) -> int:\n",
    "        completeStairs = 0\n",
    "        \n",
    "        # i = row number\n",
    "        i = 1\n",
    "        while n >= 0:\n",
    "            # For ith row, we use i coins to fill it completely\n",
    "            # So reduce i coins from n\n",
    "            n -= i\n",
    "            # If n is not negative\n",
    "            # that means this row can be fully filled so increment count of completeStairs\n",
    "            if n >= 0: completeStairs += 1\n",
    "            # Move to the next row\n",
    "            i += 1\n",
    "\n",
    "        return completeStairs"
   ]
  },
  {
   "cell_type": "markdown",
   "id": "2e47d853",
   "metadata": {},
   "source": [
    "\n",
    "💡 **Question 6**\n",
    "Given an integer array nums sorted in **non-decreasing** order, return *an array of **the squares of each number** sorted in non-decreasing order*.\n",
    "\n",
    "**Example 1:**\n",
    "\n",
    "Input: nums = [-4,-1,0,3,10]\n",
    "\n",
    "Output: [0,1,9,16,100]\n",
    "\n",
    "**Explanation:** After squaring, the array becomes [16,1,0,9,100].\n",
    "After sorting, it becomes [0,1,9,16,100]\n"
   ]
  },
  {
   "cell_type": "code",
   "execution_count": 64,
   "id": "2cb71d9c",
   "metadata": {},
   "outputs": [
    {
     "name": "stdout",
     "output_type": "stream",
     "text": [
      "[0, 1, 9, 16, 100]\n"
     ]
    }
   ],
   "source": [
    "\n",
    "# Python program to Sort square of the numbers of the array\n",
    " \n",
    "def sortSquare(arr, n):\n",
    " \n",
    "    # First convert each array elements into its square\n",
    "    for i in range(n):\n",
    "        arr[i]= arr[i] * arr[i]\n",
    "    arr.sort()\n",
    "    print(arr)\n",
    "    \n",
    "    \n",
    "# Driver code\n",
    "arr = [-4,-1,0,3,10]\n",
    "n = len(arr)\n",
    "sortSquare(arr, n)"
   ]
  },
  {
   "cell_type": "markdown",
   "id": "3d3a0e08",
   "metadata": {},
   "source": [
    "\n",
    "💡 **Question 7**\n",
    "You are given an m x n matrix M initialized with all 0's and an array of operations ops, where ops[i] = [ai, bi] means M[x][y] should be incremented by one for all 0 <= x < ai and 0 <= y < bi.\n",
    "\n",
    "Count and return *the number of maximum integers in the matrix after performing all the operations*\n",
    "\n",
    "**Input:** m = 3, n = 3, ops = [[2,2],[3,3]]\n",
    "\n",
    "**Output:** 4\n",
    "\n",
    "**Explanation:** The maximum integer in M is 2, and there are four of it in M. So return 4.\n"
   ]
  },
  {
   "cell_type": "code",
   "execution_count": 82,
   "id": "fd6ca63f",
   "metadata": {},
   "outputs": [],
   "source": [
    "\n",
    "def maxCount(self, m, n, ops):\n",
    "    length = len(ops)\n",
    "    if length == 0:\n",
    "        return m*n\n",
    "    result = [ops[0][0] , ops[0][1]]\n",
    "    for i in range(1,length):\n",
    "        result[0] = min(result[0] , ops[i][0])\n",
    "        result[1] = min(result[1] , ops[i][1])\n",
    "    return result[0]*result[1]\n",
    "\n",
    "m = 3 \n",
    "n = 3 \n",
    "ops = [[2,2],[3,3]]"
   ]
  },
  {
   "cell_type": "markdown",
   "id": "7909fae8",
   "metadata": {},
   "source": [
    "\n",
    "💡 **Question 8**\n",
    "\n",
    "Given the array nums consisting of 2n elements in the form [x1,x2,...,xn,y1,y2,...,yn].\n",
    "\n",
    "*Return the array in the form* [x1,y1,x2,y2,...,xn,yn].\n",
    "\n",
    "**Example 1:**\n",
    "\n",
    "**Input:** nums = [2,5,1,3,4,7], n = 3\n",
    "\n",
    "**Output:** [2,3,5,4,1,7]\n",
    "\n",
    "**Explanation:** Since x1=2, x2=5, x3=1, y1=3, y2=4, y3=7 then the answer is [2,3,5,4,1,7].\n"
   ]
  },
  {
   "cell_type": "code",
   "execution_count": 88,
   "id": "8b65222f",
   "metadata": {},
   "outputs": [
    {
     "name": "stdout",
     "output_type": "stream",
     "text": [
      "2 3 5 4 1 7 "
     ]
    }
   ],
   "source": [
    "\n",
    "# Python3 Naive program to shuffle an array of size 2n\n",
    " \n",
    "# Function to shuffle an array of size 2n\n",
    "def shuffleArray(nums, n):\n",
    " \n",
    "    # Rotate the element to the left\n",
    "    i, q, k = 0, 1, n\n",
    "    while(i < n):    \n",
    "        j = k\n",
    "        while(j > i + q):\n",
    "            nums[j - 1], nums[j] = nums[j], nums[j - 1]\n",
    "            j -= 1\n",
    "        i += 1\n",
    "        k += 1\n",
    "        q += 1\n",
    " \n",
    "# Driver Code\n",
    "nums= [2,5,1,3,4,7]\n",
    "n = len(nums)\n",
    "shuffleArray(nums, int(n / 2))\n",
    "for i in range(0, n):\n",
    "    print(nums[i], end = \" \")"
   ]
  },
  {
   "cell_type": "code",
   "execution_count": null,
   "id": "0dfb7205",
   "metadata": {},
   "outputs": [],
   "source": []
  }
 ],
 "metadata": {
  "kernelspec": {
   "display_name": "Python 3 (ipykernel)",
   "language": "python",
   "name": "python3"
  },
  "language_info": {
   "codemirror_mode": {
    "name": "ipython",
    "version": 3
   },
   "file_extension": ".py",
   "mimetype": "text/x-python",
   "name": "python",
   "nbconvert_exporter": "python",
   "pygments_lexer": "ipython3",
   "version": "3.9.13"
  }
 },
 "nbformat": 4,
 "nbformat_minor": 5
}
