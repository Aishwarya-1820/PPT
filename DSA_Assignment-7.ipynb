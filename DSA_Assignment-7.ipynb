{
 "cells": [
  {
   "cell_type": "markdown",
   "id": "f9044446",
   "metadata": {},
   "source": [
    "\n",
    "💡 **Question 1**\n",
    "\n",
    "Given two strings s and t, *determine if they are isomorphic*.\n",
    "\n",
    "Two strings s and t are isomorphic if the characters in s can be replaced to get t.\n",
    "\n",
    "All occurrences of a character must be replaced with another character while preserving the order of characters. No two characters may map to the same character, but a character may map to itself.\n",
    "\n",
    "**Example 1:**\n",
    "\n",
    "**Input:** s = \"egg\", t = \"add\"\n",
    "\n",
    "**Output:** true\n"
   ]
  },
  {
   "cell_type": "code",
   "execution_count": 6,
   "id": "70f2ed59",
   "metadata": {},
   "outputs": [
    {
     "name": "stdout",
     "output_type": "stream",
     "text": [
      "True\n"
     ]
    }
   ],
   "source": [
    "\n",
    "# Python program to check if two strings are isomorphic\n",
    " \n",
    "def areIsomorphic(string1, string2):\n",
    "    m = len(string1)\n",
    "    n = len(string2)\n",
    " \n",
    "    # Length of both strings must be same for one to one correspondence\n",
    "    if m != n:\n",
    "        return False\n",
    " \n",
    "    # To mark visited characters in str2\n",
    "    marked = [False] * MAX_CHARS\n",
    " \n",
    "    # To store mapping of every character from str1 to\n",
    "    # that of str2. Initialize all entries of map as -1\n",
    "    map = [-1] * MAX_CHARS\n",
    " \n",
    "    # Process all characters one by one\n",
    "    for i in range(n):\n",
    " \n",
    "        # if current character of str1 is seen first time in it.\n",
    "        if map[ord(string1[i])] == -1:\n",
    " \n",
    "            # if current character of st2 is already\n",
    "            # seen, one to one mapping not possible\n",
    "            if marked[ord(string2[i])] == True:\n",
    "                return False\n",
    " \n",
    "            # Mark current character of str2 as visited\n",
    "            marked[ord(string2[i])] = True\n",
    " \n",
    "            # Store mapping of current characters\n",
    "            map[ord(string1[i])] = string2[i]\n",
    " \n",
    "        # If this is not first appearance of current\n",
    "        # character in str1, then check if previous\n",
    "        # appearance mapped to same character of str2\n",
    "        elif map[ord(string1[i])] != string2[i]:\n",
    "            return False\n",
    " \n",
    "    return True\n",
    " \n",
    " \n",
    "# Driver program\n",
    "s = \"egg\",\n",
    "t = \"add\"\n",
    "\n",
    "print (areIsomorphic(\"egg\", \"add\"))"
   ]
  },
  {
   "cell_type": "code",
   "execution_count": null,
   "id": "efae4b80",
   "metadata": {},
   "outputs": [],
   "source": [
    "\n",
    "💡 **Question 2**\n",
    "\n",
    "Given a string num which represents an integer, return true *if* num *is a **strobogrammatic number***.\n",
    "\n",
    "A **strobogrammatic number** is a number that looks the same when rotated 180 degrees (looked at upside down).\n",
    "\n",
    "**Example 1:**\n",
    "\n",
    "**Input:** num = \"69\"\n",
    "\n",
    "**Output:** true\n"
   ]
  },
  {
   "cell_type": "code",
   "execution_count": 21,
   "id": "0c0c7e74",
   "metadata": {},
   "outputs": [
    {
     "name": "stdout",
     "output_type": "stream",
     "text": [
      "['69']\n"
     ]
    }
   ],
   "source": [
    "\n",
    "# Python program to print all Strobogrammatic number of length n\n",
    "   \n",
    "# strobogrammatic function\n",
    "def strobogrammatic_num(n):\n",
    "       \n",
    "    result = numdef(n, n)\n",
    "    return result\n",
    "       \n",
    "# definition function\n",
    "def numdef(n, length):\n",
    "       \n",
    "    if n == 0: return [\"\"]  \n",
    "    middles = numdef(n - 2, length)\n",
    "    result = []\n",
    "       \n",
    "    for middle in middles:\n",
    "        if n != length:           \n",
    "            result.append(\"0\" + middle + \"0\")      \n",
    "        result.append(\"6\" + middle + \"9\")\n",
    "    return result\n",
    "   \n",
    "    \n",
    "# Driver Code\n",
    "if __name__ == '__main__':    \n",
    "    n=2\n",
    "print(strobogrammatic_num(n))"
   ]
  },
  {
   "cell_type": "markdown",
   "id": "42852e7a",
   "metadata": {},
   "source": [
    "\n",
    "💡 **Question 3**\n",
    "\n",
    "Given two non-negative integers, num1 and num2 represented as string, return *the sum of* num1 *and* num2 *as a string*.\n",
    "\n",
    "You must solve the problem without using any built-in library for handling large integers (such as BigInteger). You must also not convert the inputs to integers directly.\n",
    "\n",
    "**Example 1:**\n",
    "\n",
    "**Input:** num1 = \"11\", num2 = \"123\"\n",
    "\n",
    "**Output:**\n",
    "\n",
    "\"134\"\n"
   ]
  },
  {
   "cell_type": "code",
   "execution_count": 29,
   "id": "2a4fea2a",
   "metadata": {},
   "outputs": [
    {
     "name": "stdout",
     "output_type": "stream",
     "text": [
      "134\n"
     ]
    }
   ],
   "source": [
    "class Solution:\n",
    "    def addStrings(self, num1: str, num2: str) -> str:\n",
    "        sys.set_int_max_str_digits(10000)\n",
    "        return str(int(num1)+int(num2))\n",
    "    \n",
    "num1 = \"11\"\n",
    "num2 = \"123\"\n",
    "\n",
    "print(str(int(num1)+int(num2)))"
   ]
  },
  {
   "cell_type": "markdown",
   "id": "c425dbaf",
   "metadata": {},
   "source": [
    "\n",
    "💡 **Question 4**\n",
    "\n",
    "Given a string s, reverse the order of characters in each word within a sentence while still preserving whitespace and initial word order.\n",
    "\n",
    "**Example 1:**\n",
    "\n",
    "**Input:** s = \"Let's take LeetCode contest\"\n",
    "\n",
    "**Output:** \"s'teL ekat edoCteeL tsetnoc\"\n"
   ]
  },
  {
   "cell_type": "code",
   "execution_count": 31,
   "id": "7691735f",
   "metadata": {},
   "outputs": [
    {
     "name": "stdout",
     "output_type": "stream",
     "text": [
      "s'teL ekat edoCteeL tsetnoc"
     ]
    }
   ],
   "source": [
    "\n",
    "# Python3 program to reverse individual words in a given string\n",
    " \n",
    "# reverses individual words of a string\n",
    "\n",
    "def reverseWords(string):\n",
    "    st = list()\n",
    " \n",
    "    # Traverse given string and push all characters to stack until we see a space.\n",
    "    for i in range(len(string)):\n",
    "        if string[i] != \" \":\n",
    "            st.append(string[i])\n",
    " \n",
    "        # When we see a space, we print contents of stack.\n",
    "        else:\n",
    "            while len(st) > 0:\n",
    "                print(st[-1], end=\"\")\n",
    "                st.pop()\n",
    "            print(end=\" \")\n",
    " \n",
    "    # Since there may not be space after last word.\n",
    "    while len(st) > 0:\n",
    "        print(st[-1], end=\"\")\n",
    "        st.pop()\n",
    " \n",
    " \n",
    "# Driver Code\n",
    "if __name__ == \"__main__\":\n",
    "    string = \"Let's take LeetCode contest\"\n",
    "    reverseWords(string)"
   ]
  },
  {
   "cell_type": "markdown",
   "id": "526020ea",
   "metadata": {},
   "source": [
    "\n",
    "💡 **Question 5**\n",
    "\n",
    "Given a string s and an integer k, reverse the first k characters for every 2k characters counting from the start of the string.\n",
    "\n",
    "If there are fewer than k characters left, reverse all of them. If there are less than 2k but greater than or equal to k characters, then reverse the first k characters and leave the other as original.\n",
    "\n",
    "**Example 1:**\n",
    "\n",
    "**Input:** s = \"abcdefg\", k = 2\n",
    "\n",
    "**Output:**\n",
    "\n",
    "\"bacdfeg\"\n"
   ]
  },
  {
   "cell_type": "code",
   "execution_count": 33,
   "id": "0bd13e2f",
   "metadata": {},
   "outputs": [
    {
     "name": "stdout",
     "output_type": "stream",
     "text": [
      "bacdfeg\n"
     ]
    }
   ],
   "source": [
    "\n",
    "# Python3 implementation of the approach\n",
    " \n",
    "# Function to return the string after\n",
    "# reversing the alternate k characters\n",
    "def revAlternateK(s, k, Len):\n",
    "    i = 0\n",
    "     \n",
    "    while(i < len(s)):\n",
    " \n",
    "        # If there are less than k characters\n",
    "        # starting from the current position\n",
    "        if (i + k > Len):\n",
    "            break\n",
    " \n",
    "        # Reverse first k characters\n",
    "        ss = s[i:i + k]\n",
    "        s = s[:i]+ss[::-1]+s[i + k:]\n",
    "         \n",
    "        # Skip the next k characters\n",
    "        i += 2 * k\n",
    "     \n",
    "    return s;\n",
    " \n",
    " \n",
    "# Driver code\n",
    " \n",
    "s = \"abcdefg\"\n",
    "Len = len(s)\n",
    "k = 2\n",
    "print(revAlternateK(s, k, Len))"
   ]
  },
  {
   "cell_type": "code",
   "execution_count": null,
   "id": "191e2da3",
   "metadata": {},
   "outputs": [],
   "source": [
    "\n",
    "💡 **Question 6**\n",
    "\n",
    "Given two strings s and goal, return true *if and only if* s *can become* goal *after some number of **shifts** on* s.\n",
    "\n",
    "A **shift** on s consists of moving the leftmost character of s to the rightmost position.\n",
    "\n",
    "- For example, if s = \"abcde\", then it will be \"bcdea\" after one shift.\n",
    "\n",
    "**Example 1:**\n",
    "\n",
    "**Input:** s = \"abcde\", goal = \"cdeab\"\n",
    "\n",
    "**Output:**\n",
    "\n",
    "true\n"
   ]
  },
  {
   "cell_type": "code",
   "execution_count": 41,
   "id": "a86825ca",
   "metadata": {},
   "outputs": [
    {
     "name": "stdout",
     "output_type": "stream",
     "text": [
      "Strings are rotations of each other:  True\n"
     ]
    }
   ],
   "source": [
    "\n",
    "# Python3 program for the above approach\n",
    " \n",
    " \n",
    "def checkString(s1, s2, indexFound, Size):\n",
    "    for i in range(Size):\n",
    " \n",
    "        # check whether the character is equal or not\n",
    "        if(s1[i] != s2[(indexFound + i) % Size]):\n",
    "            return False\n",
    " \n",
    "        # %Size keeps (indexFound+i) in bounds,\n",
    "        # since it ensures it's value is always less than Size\n",
    "    return True\n",
    " \n",
    " \n",
    "# driver code\n",
    "s1 = \"abcde\"\n",
    "s2 = \"cdeab\"\n",
    "\n",
    " \n",
    "if(len(s1) != len(s2)):\n",
    "    print(\"s2 is not a rotation on s1\")\n",
    " \n",
    "else:\n",
    " \n",
    "    indexes = []  # store occurrences of the first character of s1\n",
    "    Size = len(s1)\n",
    "    firstChar = s1[0]\n",
    "    for i in range(Size):\n",
    "        if(s2[i] == firstChar):\n",
    "            indexes.append(i)\n",
    " \n",
    "    isRotation = False\n",
    " \n",
    "    # check if the strings are rotation of each other\n",
    "    # for every occurrence of firstChar in s2\n",
    "    for idx in indexes:\n",
    " \n",
    "        isRotation = checkString(s1, s2, idx, Size)\n",
    " \n",
    "        if(isRotation):\n",
    "            break\n",
    " \n",
    "    if(isRotation):\n",
    "        print(\"Strings are rotations of each other: \", True)\n",
    "    else:\n",
    "        print(\"Strings are not rotations of each other: \", False)"
   ]
  },
  {
   "cell_type": "markdown",
   "id": "deaa151f",
   "metadata": {},
   "source": [
    "\n",
    "💡 **Question 7**\n",
    "\n",
    "Given two strings s and t, return true *if they are equal when both are typed into empty text editors*. '#' means a backspace character.\n",
    "\n",
    "Note that after backspacing an empty text, the text will continue empty.\n",
    "\n",
    "**Example 1:**\n",
    "\n",
    "**Input:** s = \"ab#c\", t = \"ad#c\"\n",
    "\n",
    "**Output:** true\n",
    "\n",
    "**Explanation:**\n",
    "\n",
    "Both s and t become \"ac\".\n"
   ]
  },
  {
   "cell_type": "code",
   "execution_count": 43,
   "id": "7833509f",
   "metadata": {},
   "outputs": [
    {
     "name": "stdout",
     "output_type": "stream",
     "text": [
      "TRUE\n"
     ]
    }
   ],
   "source": [
    "\n",
    "# Python implementation to Check if two strings after processing backspace character are equal or not\n",
    " \n",
    "# function to compare the two strings\n",
    "def removeBackspace(s) -> str:\n",
    "    n = len(s)\n",
    "    \n",
    "    # To point at position after considering the backspaces\n",
    "    idx = 0\n",
    "    for i in range(0, n):\n",
    "        if(s[i] != '#'):\n",
    "            s = s[:idx] + s[i] + s[idx+1:]\n",
    "            idx += 1\n",
    "        elif(s[i] == '#' and idx >= 0):\n",
    "            idx -= 1\n",
    "            \n",
    "        # This idx can never point at negative index position\n",
    "        if(idx < 0):\n",
    "            idx = 0\n",
    "    ans = \"\"\n",
    "    for i in range(0, idx):\n",
    "        ans += s[i]\n",
    "    return ans\n",
    " \n",
    " \n",
    "# Driver code\n",
    "s = \"ab#c\"\n",
    "t = \"ad#c\"\n",
    "if(removeBackspace(s) == removeBackspace(t)):\n",
    "      print(\"TRUE\")\n",
    "else:\n",
    "    print(\"FALSE\")"
   ]
  },
  {
   "cell_type": "markdown",
   "id": "fb05a3b7",
   "metadata": {},
   "source": [
    "\n",
    "💡 **Question 8**\n",
    "\n",
    "You are given an array coordinates, coordinates[i] = [x, y], where [x, y] represents the coordinate of a point. Check if these points make a straight line in the XY plane.\n",
    "\n",
    "**Example 1:**\n",
    "**Input:** coordinates = [[1,2],[2,3],[3,4],[4,5],[5,6],[6,7]]\n",
    "\n",
    "**Output:** true\n"
   ]
  },
  {
   "cell_type": "code",
   "execution_count": 45,
   "id": "f724262e",
   "metadata": {},
   "outputs": [
    {
     "name": "stdout",
     "output_type": "stream",
     "text": [
      "YES"
     ]
    },
    {
     "data": {
      "text/plain": [
       "True"
      ]
     },
     "execution_count": 45,
     "metadata": {},
     "output_type": "execute_result"
    }
   ],
   "source": [
    "\n",
    "# Python3 implementation to check if a straight line can be formed using N points\n",
    " \n",
    "# Function to check if a straight line can be formed using N points\n",
    "\n",
    "def isStraightLinePossible(arr, n):\n",
    "     \n",
    "    # First pair of point (x0, y0)\n",
    "    x0 = arr[0][0]\n",
    "    y0 = arr[0][1]\n",
    " \n",
    "    # Second pair of point (x1, y1)\n",
    "    x1 = arr[1][0]\n",
    "    y1 = arr[1][1]\n",
    " \n",
    "    dx = x1 - x0\n",
    "    dy = y1 - y0\n",
    "     \n",
    "    # Loop to iterate over the points\n",
    "    for i in range(n):\n",
    "        x = arr[i][0]\n",
    "        y = arr[i][1]\n",
    "         \n",
    "        if (dx * (y - y1) != dy * (x - x1)):\n",
    "            print(\"NO\", end = \"\")\n",
    "            return False\n",
    " \n",
    "    print(\"YES\", end = \"\")\n",
    "    return True\n",
    " \n",
    "# Driver code\n",
    " \n",
    "# Array of points\n",
    "arr = [[1,2],[2,3],[3,4],[4,5],[5,6],[6,7]]\n",
    "n = 4\n",
    " \n",
    "# Function Call\n",
    "isStraightLinePossible(arr, n)"
   ]
  },
  {
   "cell_type": "code",
   "execution_count": null,
   "id": "7223dbe8",
   "metadata": {},
   "outputs": [],
   "source": []
  }
 ],
 "metadata": {
  "kernelspec": {
   "display_name": "Python 3 (ipykernel)",
   "language": "python",
   "name": "python3"
  },
  "language_info": {
   "codemirror_mode": {
    "name": "ipython",
    "version": 3
   },
   "file_extension": ".py",
   "mimetype": "text/x-python",
   "name": "python",
   "nbconvert_exporter": "python",
   "pygments_lexer": "ipython3",
   "version": "3.9.13"
  }
 },
 "nbformat": 4,
 "nbformat_minor": 5
}
