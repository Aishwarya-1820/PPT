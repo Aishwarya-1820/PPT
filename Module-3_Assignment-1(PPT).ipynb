{
 "cells": [
  {
   "cell_type": "markdown",
   "id": "c896fa54",
   "metadata": {},
   "source": [
    "1. Write a Python program to reverse a string without using any built-in string reversal functions."
   ]
  },
  {
   "cell_type": "code",
   "execution_count": 23,
   "id": "db83cdee",
   "metadata": {},
   "outputs": [
    {
     "name": "stdout",
     "output_type": "stream",
     "text": [
      "The original string is : Apple\n",
      "The reversed string(using recursion) is : elppA\n"
     ]
    }
   ],
   "source": [
    "def reverse(s):\n",
    "    if len(s) == 0:\n",
    "        return s\n",
    "    else:\n",
    "        return reverse(s[1:]) + s[0]\n",
    "    \n",
    "s = \"Apple\"\n",
    "\n",
    "print(\"The original string is : \", end=\"\")\n",
    "print(s)\n",
    "\n",
    "print(\"The reversed string(using recursion) is : \", end=\"\")\n",
    "print(reverse(s))"
   ]
  },
  {
   "cell_type": "markdown",
   "id": "59d687a1",
   "metadata": {},
   "source": [
    "2. Implement a function to check if a given string is a palindrome."
   ]
  },
  {
   "cell_type": "code",
   "execution_count": 24,
   "id": "473c9cbc",
   "metadata": {},
   "outputs": [
    {
     "name": "stdout",
     "output_type": "stream",
     "text": [
      "Yes\n"
     ]
    }
   ],
   "source": [
    "\n",
    "def isPalindrome(s):\n",
    "    return s == s[::-1]\n",
    "\n",
    "\n",
    "# Driver code\n",
    "s = \"malayalam\"\n",
    "ans = isPalindrome(s)\n",
    "\n",
    "if ans:\n",
    "    print(\"Yes\")\n",
    "else:\n",
    "    print(\"No\")\n"
   ]
  },
  {
   "cell_type": "markdown",
   "id": "f73ae255",
   "metadata": {},
   "source": [
    "3. Write a program to find the largest element in a given list."
   ]
  },
  {
   "cell_type": "code",
   "execution_count": 31,
   "id": "21ed01e8",
   "metadata": {},
   "outputs": [
    {
     "name": "stdout",
     "output_type": "stream",
     "text": [
      "Largest element is : 111\n"
     ]
    }
   ],
   "source": [
    "# Python program to find largest element in a list\n",
    "\n",
    "# List of numbers\n",
    "list1 = [20, 56, 111, 87, 102, 45]\n",
    "\n",
    "# Printing the maximum element\n",
    "print(\"Largest element is :\", max(list1))"
   ]
  },
  {
   "cell_type": "markdown",
   "id": "f0eba873",
   "metadata": {},
   "source": [
    "4. Implement a function to count the occurrence of each element in a list."
   ]
  },
  {
   "cell_type": "code",
   "execution_count": 3,
   "id": "600b2285",
   "metadata": {},
   "outputs": [
    {
     "name": "stdout",
     "output_type": "stream",
     "text": [
      "Elements:  [23, 34, 78, 91, 23, 34, 34, 87, 45, 89, 91]\n",
      "23 occurance:  2\n",
      "34 occurance:  3\n",
      "78 occurance:  1\n",
      "91 occurance:  2\n",
      "87 occurance:  1\n",
      "45 occurance:  1\n",
      "89 occurance:  1\n"
     ]
    }
   ],
   "source": [
    "# Create list of elements\n",
    "list1 = [23, 34, 78, 91, 23, 34, 34, 87, 45, 89, 91]\n",
    "print(\"Elements: \", list1)\n",
    "\n",
    "# count occurances using count()\n",
    "print(\"23 occurance: \", list1.count(23))\n",
    "print(\"34 occurance: \", list1.count(34))\n",
    "print(\"78 occurance: \", list1.count(78))\n",
    "print(\"91 occurance: \", list1.count(91))\n",
    "print(\"87 occurance: \", list1.count(87))\n",
    "print(\"45 occurance: \", list1.count(45))\n",
    "print(\"89 occurance: \", list1.count(89))"
   ]
  },
  {
   "cell_type": "markdown",
   "id": "67a907d2",
   "metadata": {},
   "source": [
    "5. Write a Python program to find the second largest number in a list."
   ]
  },
  {
   "cell_type": "code",
   "execution_count": 1,
   "id": "7d897eb1",
   "metadata": {},
   "outputs": [
    {
     "name": "stdout",
     "output_type": "stream",
     "text": [
      "Second highest number is :  67\n"
     ]
    }
   ],
   "source": [
    "# Python program to find second largest number in a list\n",
    "\n",
    "# list of numbers - length of list should be at least 2\n",
    "list1 = [12, 18, 40, 29, 20, 98, 67]\n",
    "\n",
    "mx = max(list1[0], list1[1])\n",
    "secondmax = min(list1[0], list1[1])\n",
    "n = len(list1)\n",
    "for i in range(2,n):\n",
    "    if list1[i] > mx:\n",
    "        secondmax = mx\n",
    "        mx = list1[i]\n",
    "    elif list1[i] > secondmax and \\\n",
    "        mx != list1[i]:\n",
    "        secondmax = list1[i]\n",
    "    elif mx == secondmax and \\\n",
    "        secondmax != list1[i]:\n",
    "        secondmax = list1[i]\n",
    "\n",
    "print(\"Second highest number is : \",\\\n",
    "    str(secondmax))\n"
   ]
  },
  {
   "cell_type": "markdown",
   "id": "fc74a8a1",
   "metadata": {},
   "source": [
    "6. Implement a function to remove duplicate elements from a list."
   ]
  },
  {
   "cell_type": "code",
   "execution_count": 2,
   "id": "76a4b9b9",
   "metadata": {},
   "outputs": [
    {
     "name": "stdout",
     "output_type": "stream",
     "text": [
      "Original List:  [2, 4, 6, 2, 4, 8, 10, 12, 6]\n",
      "List after removing duplicate elements:  [2, 4, 6, 8, 10, 12]\n"
     ]
    }
   ],
   "source": [
    "# removing duplicate elements from the list\n",
    "\n",
    "l = [2, 4, 6, 2, 4, 8, 10, 12, 6]\n",
    "print(\"Original List: \", l)\n",
    "\n",
    "Result = [*set(l)]\n",
    "print(\"List after removing duplicate elements: \", Result)"
   ]
  },
  {
   "cell_type": "markdown",
   "id": "f0fd0e87",
   "metadata": {},
   "source": [
    "7. Write a program to calculate the factorial of a given number."
   ]
  },
  {
   "cell_type": "code",
   "execution_count": 5,
   "id": "a44290ad",
   "metadata": {},
   "outputs": [
    {
     "name": "stdout",
     "output_type": "stream",
     "text": [
      "Enter a number: 5\n",
      "The factorial of 5 is 120\n"
     ]
    }
   ],
   "source": [
    "# Python program to find the factorial of a given number\n",
    "\n",
    "# To take input from the user\n",
    "num = int(input(\"Enter a number: \"))\n",
    "\n",
    "factorial = 1\n",
    "\n",
    "# check if the number is negative, positive or zero\n",
    "if num < 0:\n",
    "   print(\"Sorry, factorial does not exist for negative numbers\")\n",
    "elif num == 0:\n",
    "   print(\"The factorial of 0 is 1\")\n",
    "else:\n",
    "   for i in range(1,num + 1):\n",
    "       factorial = factorial*i\n",
    "   print(\"The factorial of\",num,\"is\",factorial)\n"
   ]
  },
  {
   "cell_type": "markdown",
   "id": "53ca82b5",
   "metadata": {},
   "source": [
    "8. Implement a function to check if a given number is prime."
   ]
  },
  {
   "cell_type": "code",
   "execution_count": 10,
   "id": "8d0b79e5",
   "metadata": {},
   "outputs": [
    {
     "name": "stdout",
     "output_type": "stream",
     "text": [
      "7 is a prime number\n"
     ]
    }
   ],
   "source": [
    "num = 7\n",
    "# If given number is greater than 1\n",
    "if num > 1:\n",
    "    # Iterate from 2 to n / 2\n",
    "    for i in range(2, int(num/2)+1):\n",
    "        # If num is divisible by any number between 2 and n / 2, it is not prime\n",
    "        if (num % i) == 0:\n",
    "            print(num, \"is not a prime number\")\n",
    "            break\n",
    "    else:\n",
    "        print(num, \"is a prime number\")\n",
    "else:\n",
    "    print(num, \"is not a prime number\")\n"
   ]
  },
  {
   "cell_type": "markdown",
   "id": "f5c5c52c",
   "metadata": {},
   "source": [
    "9. Write a Python program to sort a list of integers in ascending order."
   ]
  },
  {
   "cell_type": "code",
   "execution_count": 16,
   "id": "de10e045",
   "metadata": {},
   "outputs": [
    {
     "name": "stdout",
     "output_type": "stream",
     "text": [
      "Original lisst of integers:  [2, 1, 6, 7, 3, 4, 5, 8, 9]\n",
      "None\n",
      "Sorted list of integers:  [1, 2, 3, 4, 5, 6, 7, 8, 9]\n"
     ]
    }
   ],
   "source": [
    "# Python program to sorting numbers in Ascending Order\n",
    "\n",
    "l = [2, 1, 6, 7, 3, 4, 5, 8, 9]\n",
    "print(\"Original lisst of integers: \", l)\n",
    "\n",
    "# Sorting list of Integers in ascending\n",
    "print(l.sort())\n",
    "print(\"Sorted list of integers: \", l)\n"
   ]
  },
  {
   "cell_type": "markdown",
   "id": "ef62487f",
   "metadata": {},
   "source": [
    "10. Implement a function to find the sum of all numbers in a list."
   ]
  },
  {
   "cell_type": "code",
   "execution_count": 18,
   "id": "b2aeabd2",
   "metadata": {},
   "outputs": [
    {
     "name": "stdout",
     "output_type": "stream",
     "text": [
      "Sum of all numbers in given list:  99\n"
     ]
    }
   ],
   "source": [
    "# Python program to find the sum of elements in list\n",
    "\n",
    "total = 0\n",
    "\n",
    "# creating a list\n",
    "list1 = [11, 5, 17, 18, 23, 25]\n",
    "\n",
    "# Iterate each element in list and add them in variable total\n",
    "for i in range(0, len(list1)):\n",
    "    total = total + list1[i]\n",
    "\n",
    "print(\"Sum of all numbers in given list: \", total)\n"
   ]
  },
  {
   "cell_type": "markdown",
   "id": "5430f4e3",
   "metadata": {},
   "source": [
    "11. Write a program to find the common elements between two lists."
   ]
  },
  {
   "cell_type": "code",
   "execution_count": 30,
   "id": "9a38ce5d",
   "metadata": {},
   "outputs": [
    {
     "name": "stdout",
     "output_type": "stream",
     "text": [
      "{3, 5}\n"
     ]
    }
   ],
   "source": [
    "# Python program to find the common elements between two lists\n",
    "\n",
    "def common_element(a, b):\n",
    "    a_set = set(a)\n",
    "    b_set = set(b)\n",
    "\n",
    "    if (a_set & b_set):\n",
    "        print(a_set & b_set)\n",
    "    else:\n",
    "        print(\"No common elements\")\n",
    "\n",
    "a = [1, 2, 3, 4, 5]\n",
    "b = [3, 5, 7, 11, 13]\n",
    "common_element(a, b)\n"
   ]
  },
  {
   "cell_type": "markdown",
   "id": "5dc0b3f0",
   "metadata": {},
   "source": [
    "12. Implement a function to check if a given string is an anagram of another string."
   ]
  },
  {
   "cell_type": "code",
   "execution_count": 20,
   "id": "f91f3e50",
   "metadata": {},
   "outputs": [
    {
     "name": "stdout",
     "output_type": "stream",
     "text": [
      "Enter first string :cat\n",
      "Enter second string :act\n",
      "The strings are anagrams.\n"
     ]
    }
   ],
   "source": [
    "def check(s1, s2):\n",
    "  \n",
    "  # the sorted strings are checked\n",
    "  if(sorted(s1)== sorted(s2)):\n",
    "    print(\"The strings are anagrams.\")\n",
    "  else:\n",
    "    print(\"The strings aren't anagrams.\")    \n",
    "    \n",
    "# driver code\n",
    "s1 =input(\"Enter first string :\")\n",
    "s2 =input(\"Enter second string :\")\n",
    "check(s1, s2)"
   ]
  },
  {
   "cell_type": "markdown",
   "id": "f738e618",
   "metadata": {},
   "source": [
    "13. Write a Python program to generate all permutations of a given string."
   ]
  },
  {
   "cell_type": "code",
   "execution_count": 23,
   "id": "22484c4f",
   "metadata": {},
   "outputs": [
    {
     "name": "stdout",
     "output_type": "stream",
     "text": [
      "ABC\n",
      "ACB\n",
      "BAC\n",
      "BCA\n",
      "CBA\n",
      "CAB\n"
     ]
    }
   ],
   "source": [
    "# Python program to print all permutations\n",
    "\n",
    "def toString(List):\n",
    "    return ''.join(List)\n",
    "\n",
    "def permute(a, l, r):\n",
    "    if l == r:\n",
    "        print (toString(a))\n",
    "    else:\n",
    "        for i in range(l, r + 1):\n",
    "            a[l], a[i] = a[i], a[l]\n",
    "            permute(a, l + 1, r)\n",
    "            a[l], a[i] = a[i], a[l]\n",
    "            \n",
    "# Driver code\n",
    "string = \"ABC\"\n",
    "n = len(string)\n",
    "a = list(string)\n",
    "permute(a, 0, n-1)"
   ]
  },
  {
   "cell_type": "markdown",
   "id": "c1400ee5",
   "metadata": {},
   "source": [
    "14. Implement a function to calculate the Fibonacci sequence up to a given number of terms."
   ]
  },
  {
   "cell_type": "code",
   "execution_count": 24,
   "id": "3f3e12b6",
   "metadata": {},
   "outputs": [
    {
     "name": "stdout",
     "output_type": "stream",
     "text": [
      "How many terms? 10\n",
      "Fibonacci sequence:\n",
      "0\n",
      "1\n",
      "1\n",
      "2\n",
      "3\n",
      "5\n",
      "8\n",
      "13\n",
      "21\n",
      "34\n"
     ]
    }
   ],
   "source": [
    "# Program to display the Fibonacci sequence up to n-th term\n",
    "\n",
    "nterms = int(input(\"How many terms? \"))\n",
    "\n",
    "# first two terms\n",
    "n1, n2 = 0, 1\n",
    "count = 0\n",
    "\n",
    "# check if the number of terms is valid\n",
    "if nterms <= 0:\n",
    "   print(\"Please enter a positive integer\")\n",
    "# if there is only one term, return n1\n",
    "elif nterms == 1:\n",
    "   print(\"Fibonacci sequence upto\",nterms,\":\")\n",
    "   print(n1)\n",
    "# generate fibonacci sequence\n",
    "else:\n",
    "   print(\"Fibonacci sequence:\")\n",
    "   while count < nterms:\n",
    "       print(n1)\n",
    "       nth = n1 + n2\n",
    "       # update values\n",
    "       n1 = n2\n",
    "       n2 = nth\n",
    "       count += 1"
   ]
  },
  {
   "cell_type": "markdown",
   "id": "a430b0c0",
   "metadata": {},
   "source": [
    "15. Write a program to find the median of a list of numbers."
   ]
  },
  {
   "cell_type": "code",
   "execution_count": 35,
   "id": "6755fb12",
   "metadata": {},
   "outputs": [
    {
     "name": "stdout",
     "output_type": "stream",
     "text": [
      "The original list : [4, 5, 28, 9, 10, 17]\n",
      "Median of list is : 9.5\n"
     ]
    }
   ],
   "source": [
    "# Median of list\n",
    "# Using loop + \"~\" operator\n",
    "\n",
    "list1 = [4, 5, 28, 9, 10, 17]\n",
    "\n",
    "print(\"The original list : \" + str(list1))\n",
    "\n",
    "list1.sort()\n",
    "mid = len(list1) // 2\n",
    "res = (list1[mid] + list1[~mid]) / 2\n",
    "\n",
    "print(\"Median of list is : \" + str(res))\n"
   ]
  },
  {
   "cell_type": "markdown",
   "id": "f726603c",
   "metadata": {},
   "source": [
    "16. Implement a function to check if a given list is sorted in non-decreasing order."
   ]
  },
  {
   "cell_type": "code",
   "execution_count": 6,
   "id": "0eb0d967",
   "metadata": {},
   "outputs": [
    {
     "name": "stdout",
     "output_type": "stream",
     "text": [
      "0 1 5 5 "
     ]
    }
   ],
   "source": [
    "import sys\n",
    "\n",
    "def printArr(b, n):\n",
    "    for i in range(0, n, 1):\n",
    "        print(b[i], end = \" \")\n",
    "\n",
    "def ModifiedArray(a, n):\n",
    "    # Lower and upper limits\n",
    "    l = 0\n",
    "    r = sys.maxsize\n",
    "\n",
    "    # To store the required array\n",
    "    b = [0 for i in range(n)]\n",
    "\n",
    "    # Apply greedy approach\n",
    "    for i in range(0, int(n / 2), 1):\n",
    "        b[i] = max(l, a[i] - r)\n",
    "        b[n - i - 1] = a[i] - b[i]\n",
    "        l = b[i]\n",
    "        r = b[n - i - 1]\n",
    "\n",
    "    printArr(b, n)\n",
    "\n",
    "# Driver code\n",
    "if __name__ == '__main__':\n",
    "    a = [5, 6]\n",
    "    n = len(a)\n",
    "    ModifiedArray(a, 2 * n)\n"
   ]
  },
  {
   "cell_type": "markdown",
   "id": "ff48909d",
   "metadata": {},
   "source": [
    "17. Write a Python program to find the intersection of two lists."
   ]
  },
  {
   "cell_type": "code",
   "execution_count": 40,
   "id": "359f8945",
   "metadata": {},
   "outputs": [
    {
     "name": "stdout",
     "output_type": "stream",
     "text": [
      "[24, 16, 20]\n"
     ]
    }
   ],
   "source": [
    "# Python program to find the intersection of two lists\n",
    "\n",
    "def intersection(list1, list2):\n",
    "    list3 = [value for value in list1 if value in list2]\n",
    "    return list3\n",
    "\n",
    "# Driver Code\n",
    "list1 = [10, 12, 8, 29, 24, 16, 20]\n",
    "list2 = [14, 16, 18, 20, 22, 24, 26]\n",
    "print(intersection(list1, list2))\n"
   ]
  },
  {
   "cell_type": "markdown",
   "id": "a08d2f6e",
   "metadata": {},
   "source": [
    "18. Implement a function to find the maximum subarray sum in a given list."
   ]
  },
  {
   "cell_type": "code",
   "execution_count": 9,
   "id": "ebe2d6df",
   "metadata": {},
   "outputs": [
    {
     "name": "stdout",
     "output_type": "stream",
     "text": [
      "Maximum contiguous sum is  21\n"
     ]
    }
   ],
   "source": [
    "# To find the maximum subarray sum in a given list\n",
    "# A Divide and Conquer based program\n",
    "\n",
    "def maxCrossingSum(arr, l, m, h):\n",
    "    sm = 0\n",
    "    left_sum = -10000\n",
    "\n",
    "    for i in range(m, l-1, -1):\n",
    "        sm = sm + arr[i]\n",
    "\n",
    "        if (sm > left_sum):\n",
    "            left_sum = sm\n",
    "\n",
    "    sm = 0\n",
    "    right_sum = -1000\n",
    "    for i in range(m, h + 1):\n",
    "        sm = sm + arr[i]\n",
    "\n",
    "        if (sm > right_sum):\n",
    "            right_sum = sm\n",
    "\n",
    "    return max(left_sum + right_sum - arr[m], left_sum, right_sum)\n",
    "\n",
    "def maxSubArraySum(arr, l, h):\n",
    "    if (l > h):\n",
    "        return -10000\n",
    "    if (l == h):\n",
    "        return arr[l]\n",
    "\n",
    "    # Find middle point\n",
    "    m = (l + h) // 2\n",
    "\n",
    "    # Return maximum of following three possible cases\n",
    "    # a) Maximum subarray sum in left half\n",
    "    # b) Maximum subarray sum in right half\n",
    "    # c) Maximum subarray sum such that the\n",
    "    return max(maxSubArraySum(arr, l, m-1),\n",
    "            maxSubArraySum(arr, m+1, h),\n",
    "            maxCrossingSum(arr, l, m, h))\n",
    "\n",
    "\n",
    "# Driver Code\n",
    "arr = [2, 3, 4, 5, 7]\n",
    "n = len(arr)\n",
    "\n",
    "max_sum = maxSubArraySum(arr, 0, n-1)\n",
    "print(\"Maximum contiguous sum is \", max_sum)\n"
   ]
  },
  {
   "cell_type": "markdown",
   "id": "8a9dd9c0",
   "metadata": {},
   "source": [
    "19. Write a program to remove all vowels from a given string."
   ]
  },
  {
   "cell_type": "code",
   "execution_count": 44,
   "id": "4bbb037a",
   "metadata": {},
   "outputs": [
    {
     "name": "stdout",
     "output_type": "stream",
     "text": [
      "My nm s: sh\n"
     ]
    }
   ],
   "source": [
    "# Python program to remove vowels from a string\n",
    "\n",
    "def rem_vowel(string):\n",
    "    vowels = ['a','e','i','o','u']\n",
    "    result = [letter for letter in string if letter.lower() not in vowels]\n",
    "    result = ''.join(result)\n",
    "    print(result)\n",
    "\n",
    "# Driver code\n",
    "string = \"My name is: Aish\"\n",
    "rem_vowel(string)"
   ]
  },
  {
   "cell_type": "markdown",
   "id": "fcaa78fe",
   "metadata": {},
   "source": [
    "20. Implement a function to reverse the order of words in a given sentence."
   ]
  },
  {
   "cell_type": "code",
   "execution_count": 51,
   "id": "7fb3d9d6",
   "metadata": {},
   "outputs": [
    {
     "name": "stdout",
     "output_type": "stream",
     "text": [
      "Science Data\n"
     ]
    }
   ],
   "source": [
    "# Python3 program to reverse a string\n",
    "  \n",
    "def reverse_word(s, start, end):\n",
    "    while start < end:\n",
    "        s[start], s[end] = s[end], s[start]\n",
    "        start = start + 1\n",
    "        end -= 1\n",
    " \n",
    " \n",
    "s = \"Data Science\"\n",
    "s = list(s)\n",
    "start = 0\n",
    "while True:\n",
    "    try:\n",
    "        end = s.index(' ', start)\n",
    "        reverse_word(s, start, end - 1)      \n",
    "        start = end + 1\n",
    "        \n",
    "    except ValueError:\n",
    "        reverse_word(s, start, len(s) - 1)\n",
    "        break\n",
    "       \n",
    "        \n",
    "s.reverse()\n",
    "s = \"\".join(s)\n",
    "print(s)"
   ]
  },
  {
   "cell_type": "markdown",
   "id": "d5c37372",
   "metadata": {},
   "source": [
    "21. Write a Python program to check if two strings are anagrams of each other."
   ]
  },
  {
   "cell_type": "code",
   "execution_count": 54,
   "id": "c40b475a",
   "metadata": {},
   "outputs": [
    {
     "name": "stdout",
     "output_type": "stream",
     "text": [
      "The strings are anagrams.\n"
     ]
    }
   ],
   "source": [
    "# to check if two strings are anagram or not\n",
    "def check(s1, s2):\n",
    "\n",
    "    if(sorted(s1)== sorted(s2)):\n",
    "        print(\"The strings are anagrams.\")\n",
    "    else:\n",
    "        print(\"The strings are not anagrams.\")\n",
    "        \n",
    "# driver code\n",
    "s1 =\"listen\"\n",
    "s2 =\"silent\"\n",
    "check(s1, s2)\n"
   ]
  },
  {
   "cell_type": "markdown",
   "id": "fe9025a3",
   "metadata": {},
   "source": [
    "22. Implement a function to find the first non-repeating character in a string."
   ]
  },
  {
   "cell_type": "code",
   "execution_count": 57,
   "id": "3011f026",
   "metadata": {},
   "outputs": [
    {
     "name": "stdout",
     "output_type": "stream",
     "text": [
      "First non-repeating character is n\n"
     ]
    }
   ],
   "source": [
    "# Python program to print the first non-repeating character\n",
    "\n",
    "string = \"assoonaspossible\"\n",
    "index = -1\n",
    "fnc = \"\"\n",
    "\n",
    "if len(string) == 0 :\n",
    "    print(\"EMTPY STRING\");\n",
    "\n",
    "for i in string:\n",
    "    if string.count(i) == 1:\n",
    "        fnc += i\n",
    "        break\n",
    "    else:\n",
    "        index += 1\n",
    "if index == len(string)-1 :\n",
    "    print(\"All characters are repeating \")\n",
    "else:\n",
    "    print(\"First non-repeating character is\", fnc)\n"
   ]
  },
  {
   "cell_type": "markdown",
   "id": "b439ab67",
   "metadata": {},
   "source": [
    "23. Write a program to find the prime factors of a given number."
   ]
  },
  {
   "cell_type": "code",
   "execution_count": 62,
   "id": "6d0d6cd0",
   "metadata": {},
   "outputs": [
    {
     "name": "stdout",
     "output_type": "stream",
     "text": [
      "3\n",
      "3\n",
      "5\n",
      "7\n"
     ]
    }
   ],
   "source": [
    "# Python program to print prime factors\n",
    "\n",
    "import math\n",
    "\n",
    "def primeFactors(n):\n",
    "    while n % 2 == 0:\n",
    "        print( 2,)\n",
    "        n = n / 2\n",
    "\n",
    "# n must be odd at this point\n",
    "# so a skip of 2 ( i = i + 2) can be used\n",
    "    for i in range(3,int(math.sqrt(n))+1,2):\n",
    "\n",
    "        while n % i== 0:\n",
    "            print( i,)\n",
    "            n = n / i\n",
    "\n",
    "    if n > 2:\n",
    "        print( n)\n",
    "        \n",
    "# Driver Program \n",
    "\n",
    "n = 315\n",
    "primeFactors(n)"
   ]
  },
  {
   "cell_type": "markdown",
   "id": "02184c3e",
   "metadata": {},
   "source": [
    "24. Implement a function to check if a given number is a power of two."
   ]
  },
  {
   "cell_type": "code",
   "execution_count": 7,
   "id": "238e42ef",
   "metadata": {},
   "outputs": [
    {
     "name": "stdout",
     "output_type": "stream",
     "text": [
      "No\n",
      "Yes\n"
     ]
    }
   ],
   "source": [
    "# Python program to check a given number is a power of two\n",
    "import math\n",
    "\n",
    "def Log2(x):\n",
    "    if x == 0:\n",
    "        return false\n",
    "\n",
    "    return (math.log10(x) /\n",
    "            math.log10(2))\n",
    "\n",
    "# Function to check\n",
    "# if x is power of 2\n",
    "\n",
    "\n",
    "def isPowerOfTwo(n):\n",
    "    return (math.ceil(Log2(n)) ==\n",
    "            math.floor(Log2(n)))\n",
    "\n",
    "\n",
    "# Driver Code\n",
    "if __name__ == \"__main__\":\n",
    "\n",
    "    if(isPowerOfTwo(12)):\n",
    "        print(\"Yes\")\n",
    "    else:\n",
    "        print(\"No\")\n",
    "\n",
    "    if(isPowerOfTwo(64)):\n",
    "        print(\"Yes\")\n",
    "    else:\n",
    "        print(\"No\")\n"
   ]
  },
  {
   "cell_type": "markdown",
   "id": "25f32341",
   "metadata": {},
   "source": [
    "25. Write a Python program to merge two sorted lists into a single sorted list."
   ]
  },
  {
   "cell_type": "code",
   "execution_count": 13,
   "id": "ab875f51",
   "metadata": {},
   "outputs": [
    {
     "name": "stdout",
     "output_type": "stream",
     "text": [
      "Resultant Merge Linked List is : \n",
      "2 3 5 5 7 10 15 20 "
     ]
    }
   ],
   "source": [
    "# Python program to merge two sorted lists into a single sorted list\n",
    "\n",
    "class Node:\n",
    "    def __init__(self, key):\n",
    "        self.key = key\n",
    "        self.next = None\n",
    "\n",
    "# return a newnode\n",
    "\n",
    "def newNode(key):\n",
    "    return Node(key)\n",
    "\n",
    "\n",
    "# driver code\n",
    "\n",
    "a=[5, 10, 15, 20]\n",
    "b=[2, 3, 5, 7]\n",
    "\n",
    "a = Node(5)\n",
    "a.next = Node(10)\n",
    "a.next.next = Node(15)\n",
    "a.next.next.next = Node(20)\n",
    "\n",
    "b = Node(2)\n",
    "b.next = Node(3)\n",
    "b.next.next = Node(5)\n",
    "b.next.next.next = Node(7)\n",
    "\n",
    "v = []\n",
    "while(a is not None):\n",
    "    v.append(a.key)\n",
    "    a = a.next\n",
    "\n",
    "while(b is not None):\n",
    "    v.append(b.key)\n",
    "    b = b.next\n",
    "\n",
    "v.sort()\n",
    "result = Node(-1)\n",
    "temp = result\n",
    "for i in range(len(v)):\n",
    "    result.next = Node(v[i])\n",
    "    result = result.next\n",
    "\n",
    "temp = temp.next\n",
    "print(\"Resultant Merge Linked List is : \")\n",
    "while(temp is not None):\n",
    "    print(temp.key, end=\" \")\n",
    "    temp = temp.next\n"
   ]
  },
  {
   "cell_type": "markdown",
   "id": "0373da73",
   "metadata": {},
   "source": [
    "26. Implement a function to find the mode of a list of numbers"
   ]
  },
  {
   "cell_type": "code",
   "execution_count": 18,
   "id": "685faee0",
   "metadata": {},
   "outputs": [
    {
     "name": "stdout",
     "output_type": "stream",
     "text": [
      "Mode: 7\n"
     ]
    }
   ],
   "source": [
    "# Python program to find the mode of a list of numbers\n",
    "\n",
    "class Node:\n",
    "    def __init__(self, value):\n",
    "        self.data = value\n",
    "        self.next = None\n",
    "\n",
    "\n",
    "def findMode(head):\n",
    "    freq = {}\n",
    "    max_freq = 0\n",
    "    curr = head\n",
    "\n",
    "    # Count frequency of each element in linked list\n",
    "    while curr != None:\n",
    "        freq[curr.data] = freq.get(curr.data, 0) + 1\n",
    "        max_freq = max(max_freq, freq[curr.data])\n",
    "        curr = curr.next\n",
    "    \n",
    "    # Find mode of linked list\n",
    "    curr = head\n",
    "    mode = 0\n",
    "    while curr != None:\n",
    "        if freq[curr.data] == max_freq:\n",
    "            mode = curr.data\n",
    "            break\n",
    "        curr = curr.next\n",
    "    \n",
    "    return mode\n",
    "\n",
    "list1 = [1, 3, 7, 1, 7, 9, 7, 5]\n",
    "if __name__ == \"__main__\":\n",
    "    head = Node(1)\n",
    "    head.next = Node(3)\n",
    "    head.next.next = Node(7)\n",
    "    head.next.next.next = Node(1)\n",
    "    head.next.next.next.next = Node(7)\n",
    "    head.next.next.next.next.next = Node(9)\n",
    "    head.next.next.next.next.next.next = Node(7)\n",
    "    head.next.next.next.next.next.next.next = Node(5)\n",
    "    head.next.next.next.next.next.next.next.next = None\n",
    "\n",
    "    mode = findMode(head)\n",
    "    print(f\"Mode: {mode}\")\n"
   ]
  },
  {
   "cell_type": "markdown",
   "id": "0d160a95",
   "metadata": {},
   "source": [
    "27. Write a program to find the greatest common divisor (GCD) of two numbers."
   ]
  },
  {
   "cell_type": "code",
   "execution_count": 26,
   "id": "96d6fb2f",
   "metadata": {},
   "outputs": [
    {
     "name": "stdout",
     "output_type": "stream",
     "text": [
      "GCD: 2\n"
     ]
    }
   ],
   "source": [
    "def GCD_Loop( a, b):  \n",
    "    if a > b: \n",
    "        temp = b  \n",
    "    else:  \n",
    "        temp = a  \n",
    "    for i in range(1, temp + 1):  \n",
    "        if (( a % i == 0) and (b % i == 0 )):  \n",
    "            gcd = i  \n",
    "    return gcd \n",
    "\n",
    "a = 300\n",
    "b = 2\n",
    "print(\"GCD:\", GCD_Loop(a, b))"
   ]
  },
  {
   "cell_type": "markdown",
   "id": "deeae2b0",
   "metadata": {},
   "source": [
    "28. Implement a function to calculate the square root of a given number."
   ]
  },
  {
   "cell_type": "code",
   "execution_count": 31,
   "id": "a641dc67",
   "metadata": {},
   "outputs": [
    {
     "name": "stdout",
     "output_type": "stream",
     "text": [
      "3\n"
     ]
    }
   ],
   "source": [
    "# Python3 program to find square root of x\n",
    "  \n",
    "\n",
    "def floorSqrt(x):\n",
    " \n",
    "    # Base cases\n",
    "    if (x == 0 or x == 1):\n",
    "        return x\n",
    " \n",
    "    # Starting from 1\n",
    "    i = 1\n",
    "    result = 1\n",
    "    while (result <= x):\n",
    " \n",
    "        i += 1\n",
    "        result = i * i\n",
    " \n",
    "    return i - 1\n",
    " \n",
    "# Driver Code\n",
    "x = 11\n",
    "print(floorSqrt(x))\n",
    " "
   ]
  },
  {
   "cell_type": "markdown",
   "id": "45e1536c",
   "metadata": {},
   "source": [
    "29. Write a Python program to check if a given string is a valid palindrome ignoring non-alphanumeric characters."
   ]
  },
  {
   "cell_type": "code",
   "execution_count": 76,
   "id": "61662b21",
   "metadata": {},
   "outputs": [
    {
     "name": "stdout",
     "output_type": "stream",
     "text": [
      "Yes\n"
     ]
    }
   ],
   "source": [
    "#to check if a given string is a valid palindrome\n",
    "\n",
    "def isPalindrome(s):\n",
    "    return s == s[::-1]\n",
    " \n",
    " \n",
    "# Driver code\n",
    "s = \"malayalam\"\n",
    "ans = isPalindrome(s)\n",
    " \n",
    "if ans:\n",
    "    print(\"Yes\")\n",
    "else:\n",
    "    print(\"No\")"
   ]
  },
  {
   "cell_type": "markdown",
   "id": "da3faae5",
   "metadata": {},
   "source": [
    "30. Implement a function to find the minimum element in a rotated sorted list."
   ]
  },
  {
   "cell_type": "code",
   "execution_count": 33,
   "id": "f19b1842",
   "metadata": {},
   "outputs": [
    {
     "name": "stdout",
     "output_type": "stream",
     "text": [
      "1\n"
     ]
    }
   ],
   "source": [
    "#to find the minimum element in a rotated sorted list\n",
    "\n",
    "def findMin(arr, N):\n",
    "     \n",
    "    min_ele = arr[0];\n",
    " \n",
    "    # Traversing over array to\n",
    "    # find minimum element\n",
    "    for i in range(N) :\n",
    "        if arr[i] < min_ele :\n",
    "            min_ele = arr[i]\n",
    " \n",
    "    return min_ele;\n",
    " \n",
    "# Driver program\n",
    "arr = [5, 6, 1, 2, 3, 4]\n",
    "N = len(arr)\n",
    " \n",
    "print(findMin(arr,N))"
   ]
  },
  {
   "cell_type": "markdown",
   "id": "1249bd68",
   "metadata": {},
   "source": [
    "31. Write a program to find the sum of all even numbers in a list."
   ]
  },
  {
   "cell_type": "code",
   "execution_count": 47,
   "id": "3f307d7a",
   "metadata": {},
   "outputs": [
    {
     "name": "stdout",
     "output_type": "stream",
     "text": [
      "The original list is : [23, 12, 44, 56, 65]\n",
      "Even digit sum : 24\n"
     ]
    }
   ],
   "source": [
    "# to find the sum of all even numbers in a lis\n",
    "\n",
    "test_list = [23, 12, 44, 56, 65]\n",
    " \n",
    "print(\"The original list is : \" + str(test_list))\n",
    "\n",
    "even_sum = 0\n",
    " \n",
    "for sub in test_list:\n",
    "    for ele in str(sub):\n",
    "         \n",
    "        # adding in particular summation according to value\n",
    "        if int(ele) % 2 == 0:\n",
    "            even_sum += int(ele)\n",
    "        else:\n",
    "            odd_sum += int(ele)\n",
    "            \n",
    "print(\"Even digit sum : \" + str(even_sum))"
   ]
  },
  {
   "cell_type": "markdown",
   "id": "b3ac593f",
   "metadata": {},
   "source": [
    "32. Implement a function to calculate the power of a number using recursion."
   ]
  },
  {
   "cell_type": "code",
   "execution_count": 49,
   "id": "fe4f5cd3",
   "metadata": {},
   "outputs": [
    {
     "name": "stdout",
     "output_type": "stream",
     "text": [
      "25\n"
     ]
    }
   ],
   "source": [
    "# to calculate the power of a number using recursion   \n",
    "\n",
    "def power(N, P):\n",
    "    if P == 0:\n",
    "        return 1\n",
    " \n",
    "    # Recurrence relation\n",
    "    return (N*power(N, P-1))\n",
    " \n",
    " \n",
    "# Driver code\n",
    "if __name__ == '__main__':\n",
    "    N = 5\n",
    "    P = 2\n",
    " \n",
    "    print(power(N, P))"
   ]
  },
  {
   "cell_type": "markdown",
   "id": "10cdb45e",
   "metadata": {},
   "source": [
    "33. Write a Python program to remove duplicates from a list while preserving the order."
   ]
  },
  {
   "cell_type": "code",
   "execution_count": 50,
   "id": "9cef5a7d",
   "metadata": {},
   "outputs": [
    {
     "name": "stdout",
     "output_type": "stream",
     "text": [
      "[2, 4, 10, 20, 5]\n"
     ]
    }
   ],
   "source": [
    "# Python code to remove duplicate elements\n",
    "\n",
    "def Remove(duplicate):\n",
    "    final_list = []\n",
    "    for num in duplicate:\n",
    "        if num not in final_list:\n",
    "            final_list.append(num)\n",
    "    return final_list\n",
    "     \n",
    "# Driver Code\n",
    "duplicate = [2, 4, 10, 20, 5, 2, 20, 4]\n",
    "print(Remove(duplicate))"
   ]
  },
  {
   "cell_type": "markdown",
   "id": "eccf5061",
   "metadata": {},
   "source": [
    "34. Implement a function to find the longest common prefix among a list of strings."
   ]
  },
  {
   "cell_type": "code",
   "execution_count": 54,
   "id": "de5322dc",
   "metadata": {},
   "outputs": [
    {
     "name": "stdout",
     "output_type": "stream",
     "text": [
      "The longest Common Prefix is : a\n"
     ]
    }
   ],
   "source": [
    "\n",
    "# Python program to find longest common prefix of given list of string\n",
    "\n",
    "def longestCommonPrefix(a):\n",
    "     \n",
    "    size = len(a)\n",
    " \n",
    "    if (size == 0):\n",
    "        return \"\"\n",
    " \n",
    "    if (size == 1):\n",
    "        return a[0]\n",
    "\n",
    "    a.sort()\n",
    "     \n",
    "    # find the minimum length from first and last string\n",
    "    end = min(len(a[0]), len(a[size - 1]))\n",
    " \n",
    "    # find the common prefix between the first and last string\n",
    "    i = 0\n",
    "    while (i < end and\n",
    "           a[0][i] == a[size - 1][i]):\n",
    "        i += 1\n",
    " \n",
    "    pre = a[0][0: i]\n",
    "    return pre\n",
    " \n",
    "# Driver Code\n",
    "if __name__ == \"__main__\":\n",
    " \n",
    "    input = [\"apple\", \"ant\", \"as\", \"aish\"]\n",
    "    print(\"The longest Common Prefix is :\" ,  longestCommonPrefix(input))"
   ]
  },
  {
   "cell_type": "markdown",
   "id": "a329244c",
   "metadata": {},
   "source": [
    "35. Write a program to check if a given number is a perfect square."
   ]
  },
  {
   "cell_type": "code",
   "execution_count": 59,
   "id": "e83dc039",
   "metadata": {},
   "outputs": [
    {
     "name": "stdout",
     "output_type": "stream",
     "text": [
      "No\n"
     ]
    }
   ],
   "source": [
    "\n",
    "# Python program to find if x is a perfect square.\n",
    " \n",
    "import math \n",
    "def isPerfectSquare(x):\n",
    " \n",
    "    #if x >= 0,\n",
    "    if(x >= 0):\n",
    "        sr = int(math.sqrt(x))\n",
    "        # sqrt function returns floating value so we have to convert it into integer\n",
    "        return ((sr*sr) == x)\n",
    "    return false\n",
    " \n",
    "# Driver code\n",
    "x = 56\n",
    "if (isPerfectSquare(x)):\n",
    "    print(\"Yes\")\n",
    "else:\n",
    "    print(\"No\")"
   ]
  },
  {
   "cell_type": "markdown",
   "id": "6289b965",
   "metadata": {},
   "source": [
    "36. Implement a function to calculate the product of all elements in a list."
   ]
  },
  {
   "cell_type": "code",
   "execution_count": 66,
   "id": "f25297ce",
   "metadata": {},
   "outputs": [
    {
     "name": "stdout",
     "output_type": "stream",
     "text": [
      "362880\n"
     ]
    }
   ],
   "source": [
    "\n",
    "# Python program to multiply all values in the list using traversal\n",
    " \n",
    "def multiplyList(List1):\n",
    "    result = 1\n",
    "    for x in List1:\n",
    "        result = result * x\n",
    "    return result\n",
    " \n",
    "# Driver code\n",
    "list1 = [1, 2, 3, 4, 5, 6, 7, 8, 9]\n",
    "print(multiplyList(list1))\n"
   ]
  },
  {
   "cell_type": "markdown",
   "id": "800d4e55",
   "metadata": {},
   "source": [
    "37. Write a Python program to reverse the order of words in a sentence while preserving the word order."
   ]
  },
  {
   "cell_type": "code",
   "execution_count": 69,
   "id": "b678b804",
   "metadata": {},
   "outputs": [
    {
     "name": "stdout",
     "output_type": "stream",
     "text": [
      "masters science data\n"
     ]
    }
   ],
   "source": [
    "# To reverse words in a given string\n",
    "\n",
    "string = \"data science masters\"\n",
    "s = string.split()[::-1]\n",
    "l = []\n",
    "for i in s:\n",
    "    l.append(i)\n",
    "print(\" \".join(l))"
   ]
  },
  {
   "cell_type": "markdown",
   "id": "cd427fc5",
   "metadata": {},
   "source": [
    "38. Implement a function to find the missing number in a given list of consecutive numbers."
   ]
  },
  {
   "cell_type": "code",
   "execution_count": 72,
   "id": "5455cd6d",
   "metadata": {},
   "outputs": [
    {
     "name": "stdout",
     "output_type": "stream",
     "text": [
      "4\n"
     ]
    }
   ],
   "source": [
    "# Find Missing Element\n",
    "def findMissing(arr, N):\n",
    "   \n",
    "    # create a list of zeroes\n",
    "    temp = [0] * (N+1)\n",
    " \n",
    "    for i in range(0, N):\n",
    "        temp[arr[i] - 1] = 1\n",
    " \n",
    "    for i in range(0, N+1):\n",
    "        if(temp[i] == 0):\n",
    "            ans = i + 1\n",
    " \n",
    "    print(ans)\n",
    " \n",
    "# Driver code\n",
    "if __name__ == '__main__':\n",
    "    arr = [1, 2, 3, 5]\n",
    "    N = len(arr)\n",
    " \n",
    "    findMissing(arr, N)"
   ]
  },
  {
   "cell_type": "markdown",
   "id": "3c6ffbcb",
   "metadata": {},
   "source": [
    "39. Write a program to find the sum of digits of a given number."
   ]
  },
  {
   "cell_type": "code",
   "execution_count": 73,
   "id": "aad4eb4b",
   "metadata": {},
   "outputs": [
    {
     "name": "stdout",
     "output_type": "stream",
     "text": [
      "21\n"
     ]
    }
   ],
   "source": [
    "\n",
    "# Python program to compute sum of digits of a given number.\n",
    " \n",
    "def getSum(n):\n",
    "    sum = 0\n",
    "    while (n != 0):\n",
    " \n",
    "        sum = sum + int(n % 10)\n",
    "        n = int(n/10)\n",
    " \n",
    "    return sum\n",
    " \n",
    " \n",
    "# Driver code\n",
    "if __name__ == \"__main__\":\n",
    "    n = 687\n",
    "    print(getSum(n))"
   ]
  },
  {
   "cell_type": "markdown",
   "id": "a38f7b23",
   "metadata": {},
   "source": [
    "40. Implement a function to check if a given string is a valid palindrome considering case sensitivity."
   ]
  },
  {
   "cell_type": "code",
   "execution_count": 79,
   "id": "6c52f341",
   "metadata": {},
   "outputs": [
    {
     "name": "stdout",
     "output_type": "stream",
     "text": [
      "No\n"
     ]
    }
   ],
   "source": [
    "# function to check string is palindrome or not\n",
    "\n",
    "def isPalindrome(str):\n",
    " \n",
    "    for i in range(0, int(len(str)/2)):\n",
    "        if str[i] != str[len(str)-i-1]:\n",
    "            return False\n",
    "    return True\n",
    " \n",
    "# main function\n",
    "s = \"Malayalam\"\n",
    "ans = isPalindrome(s)\n",
    " \n",
    "if (ans):\n",
    "    print(\"Yes\")\n",
    "else:\n",
    "    print(\"No\")"
   ]
  },
  {
   "cell_type": "markdown",
   "id": "96f84170",
   "metadata": {},
   "source": [
    "41. Write a Python program to find the smallest missing positive integer in a list."
   ]
  },
  {
   "cell_type": "code",
   "execution_count": 87,
   "id": "4735cf32",
   "metadata": {},
   "outputs": [
    {
     "name": "stdout",
     "output_type": "stream",
     "text": [
      "Smallest missing positive integer:  2\n"
     ]
    }
   ],
   "source": [
    "def getMEX(a):\n",
    "    n = len(a)\n",
    "    hash = set(a)\n",
    "    for i in range(1, n + 2):\n",
    "        if i not in hash:\n",
    "            return i\n",
    "        \n",
    "a = [1,5,7,4,6]\n",
    "print(\"Smallest missing positive integer: \", getMEX(a))"
   ]
  },
  {
   "cell_type": "markdown",
   "id": "85d3d0f0",
   "metadata": {},
   "source": [
    "42. Implement a function to find the longest palindrome substring in a given string."
   ]
  },
  {
   "cell_type": "code",
   "execution_count": 88,
   "id": "6d38cc21",
   "metadata": {},
   "outputs": [
    {
     "name": "stdout",
     "output_type": "stream",
     "text": [
      "Longest palindrome substring is: geeksskeeg\n",
      "Length is: 10\n"
     ]
    }
   ],
   "source": [
    "# longest palindrome substring in a given string\n",
    " \n",
    "def printSubStr(str, low, high):\n",
    "    for i in range(low, high + 1):\n",
    "        print(str[i], end=\"\")\n",
    " \n",
    " \n",
    "# This function prints the longest palindrome subString \n",
    "#It also returns the length of the longest palindrome\n",
    "def longestPalSubstr(str):\n",
    " \n",
    "    n = len(str)\n",
    "\n",
    "    maxLength = 1\n",
    "    start = 0\n",
    "\n",
    "    for i in range(n):\n",
    "        for j in range(i, n):\n",
    "            flag = 1\n",
    " \n",
    "            # Check palindrome\n",
    "            for k in range(0, ((j - i) // 2) + 1):\n",
    "                if (str[i + k] != str[j - k]):\n",
    "                    flag = 0\n",
    " \n",
    "            # Palindrome\n",
    "            if (flag != 0 and (j - i + 1) > maxLength):\n",
    "                start = i\n",
    "                maxLength = j - i + 1\n",
    " \n",
    "    print(\"Longest palindrome substring is: \", end=\"\")\n",
    "    printSubStr(str, start, start + maxLength - 1)\n",
    "\n",
    "    return maxLength\n",
    " \n",
    "# Driver Code\n",
    "if __name__ == '__main__':\n",
    " \n",
    "    str = \"forgeeksskeegfor\"\n",
    "    print(\"\\nLength is:\", longestPalSubstr(str))\n",
    " "
   ]
  },
  {
   "cell_type": "markdown",
   "id": "98ed72d9",
   "metadata": {},
   "source": [
    "43. Write a program to find the number of occurrences of a given element in a list."
   ]
  },
  {
   "cell_type": "code",
   "execution_count": 89,
   "id": "bbf38380",
   "metadata": {},
   "outputs": [
    {
     "name": "stdout",
     "output_type": "stream",
     "text": [
      "8 has occurred 5 times\n"
     ]
    }
   ],
   "source": [
    "# Python code to count the number of occurrences\n",
    "def countX(lst, x):\n",
    "    count = 0\n",
    "    for ele in lst:\n",
    "        if (ele == x):\n",
    "            count = count + 1\n",
    "    return count\n",
    " \n",
    "# Driver Code\n",
    "lst = [8, 6, 8, 10, 8, 20, 10, 8, 8]\n",
    "x = 8\n",
    "print('{} has occurred {} times'.format(x, countX(lst, x)))"
   ]
  },
  {
   "cell_type": "markdown",
   "id": "5c6468f1",
   "metadata": {},
   "source": [
    "44. Implement a function to check if a given number is a perfect number."
   ]
  },
  {
   "cell_type": "code",
   "execution_count": 92,
   "id": "96c45a82",
   "metadata": {},
   "outputs": [
    {
     "name": "stdout",
     "output_type": "stream",
     "text": [
      "Below are all perfect numbers till 1000\n",
      "6  is a perfect number\n",
      "28  is a perfect number\n",
      "496  is a perfect number\n"
     ]
    }
   ],
   "source": [
    "# to check if a given number is perfect or not\n",
    " \n",
    "def isPerfect( n ):\n",
    "    sum = 1\n",
    "    i = 2\n",
    "    while i * i <= n:\n",
    "        if n % i == 0:\n",
    "            sum = sum + i + n/i\n",
    "        i += 1 \n",
    "    return (True if sum == n and n!=1 else False)\n",
    " \n",
    "# Driver program\n",
    "print(\"Below are all perfect numbers till 1000\")\n",
    "n = 2\n",
    "for n in range (1000):\n",
    "    if isPerfect (n):\n",
    "        print(n , \" is a perfect number\")"
   ]
  },
  {
   "cell_type": "markdown",
   "id": "6a84859a",
   "metadata": {},
   "source": [
    "45. Write a Python program to remove all duplicates from a string."
   ]
  },
  {
   "cell_type": "code",
   "execution_count": 96,
   "id": "31108b90",
   "metadata": {},
   "outputs": [
    {
     "name": "stdout",
     "output_type": "stream",
     "text": [
      "geksfor"
     ]
    }
   ],
   "source": [
    "# Python program to remove all duplicates from a string\n",
    "\n",
    "string=\"geeksforgeeks\"\n",
    "k2=[]\n",
    "\n",
    "for ele in string:\n",
    "    if ele not in k2:\n",
    "        k2.append(ele)\n",
    "        \n",
    "for i in range(0,len(k2)):\n",
    "    print(k2[i],end=\"\")"
   ]
  },
  {
   "cell_type": "markdown",
   "id": "13239105",
   "metadata": {},
   "source": [
    "46. Implement a function to find the first missing positive"
   ]
  },
  {
   "cell_type": "code",
   "execution_count": 102,
   "id": "f81e5723",
   "metadata": {},
   "outputs": [
    {
     "name": "stdout",
     "output_type": "stream",
     "text": [
      "First missing positive integer:  2\n"
     ]
    }
   ],
   "source": [
    "# to find the first missing positive \n",
    "\n",
    "def firstMissingPositive(A):\n",
    "        m=max(A)\n",
    "        ln=len(A)\n",
    "        i=0\n",
    "        while i<ln:\n",
    "            if A[i]>=1 and A[i]<=ln:\n",
    "                if A[A[i]-1]!=m+1:\n",
    "\n",
    "                   A[A[i]-1], A[i] = m+1, A[A[i]-1]\n",
    "                else:\n",
    "                    i+=1\n",
    "\n",
    "            else:\n",
    "                i+=1\n",
    "        for i in range(ln):\n",
    "            if A[i]!=m+1:\n",
    "                return i+1\n",
    "            \n",
    "# Driver code          \n",
    "A = [12, -78, 23, 1, 77, -45, 90, -65, 37]\n",
    "print(\"First missing positive integer: \", firstMissingPositive(A))"
   ]
  },
  {
   "cell_type": "code",
   "execution_count": null,
   "id": "6fae9a81",
   "metadata": {},
   "outputs": [],
   "source": []
  }
 ],
 "metadata": {
  "kernelspec": {
   "display_name": "Python 3 (ipykernel)",
   "language": "python",
   "name": "python3"
  },
  "language_info": {
   "codemirror_mode": {
    "name": "ipython",
    "version": 3
   },
   "file_extension": ".py",
   "mimetype": "text/x-python",
   "name": "python",
   "nbconvert_exporter": "python",
   "pygments_lexer": "ipython3",
   "version": "3.9.13"
  }
 },
 "nbformat": 4,
 "nbformat_minor": 5
}
