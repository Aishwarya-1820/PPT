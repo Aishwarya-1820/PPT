{
 "cells": [
  {
   "cell_type": "markdown",
   "id": "cdb7bb6a",
   "metadata": {},
   "source": [
    " \n",
    "💡 **Question 1**\n",
    "\n",
    "A permutation perm of n + 1 integers of all the integers in the range [0, n] can be represented as a string s of length n where:\n",
    "\n",
    "- s[i] == 'I' if perm[i] < perm[i + 1], and\n",
    "- s[i] == 'D' if perm[i] > perm[i + 1].\n",
    "\n",
    "Given a string s, reconstruct the permutation perm and return it. If there are multiple valid permutations perm, return **any of them**.\n",
    "\n",
    "**Example 1:**\n",
    "\n",
    "**Input:** s = \"IDID\"\n",
    "\n",
    "**Output:**\n",
    "\n",
    "[0,4,1,3,2]\n"
   ]
  },
  {
   "cell_type": "code",
   "execution_count": 14,
   "id": "cf9579b8",
   "metadata": {},
   "outputs": [
    {
     "name": "stdout",
     "output_type": "stream",
     "text": [
      "[0, 4, 1, 3, 2]\n"
     ]
    }
   ],
   "source": [
    "\n",
    "def diStringMatch(s: str): \n",
    "    i, n = 0, len(s)\n",
    "    ans = []\n",
    "    for c in s:\n",
    "        if c == 'I': \n",
    "            ans.append(i)\n",
    "            i+=1\n",
    "        else:\n",
    "            ans.append(n)\n",
    "            n-=1\n",
    "    ans.append(i)\n",
    "    return ans\n",
    "\n",
    "s = \"IDID\"\n",
    "print(diStringMatch(s))"
   ]
  },
  {
   "cell_type": "code",
   "execution_count": null,
   "id": "12467934",
   "metadata": {},
   "outputs": [],
   "source": [
    "Question 2\n",
    "\n",
    "You are given an m x n integer matrix matrix with the following two properties:\n",
    "Each row is sorted in non-decreasing order.\n",
    "The first integer of each row is greater than the last integer of the previous row.\n",
    "Given an integer target, return true if target is in matrix or false otherwise.\n",
    "You must write a solution in O(log(m * n)) time complexity.\n",
    "\n",
    "Example 1:\n",
    "    \n",
    "**Input:** matrix = [[1,3,5,7],[10,11,16,20],[23,30,34,60]], target = 3\n",
    "\n",
    "**Output:** true    "
   ]
  },
  {
   "cell_type": "code",
   "execution_count": 12,
   "id": "44a57bff",
   "metadata": {},
   "outputs": [
    {
     "name": "stdout",
     "output_type": "stream",
     "text": [
      "True\n"
     ]
    }
   ],
   "source": [
    "\n",
    "# Python 3 program to find whether a give element is present in the given 2-D matrix\n",
    " \n",
    "M = 3\n",
    "N = 4\n",
    " \n",
    "# Basic binary search to find an element in a 1-D array\n",
    "\n",
    "def binarySearch1D(arr, K):\n",
    "    low = 0\n",
    "    high = N - 1\n",
    "    while (low <= high):\n",
    "        mid = low + int((high - low) / 2)\n",
    " \n",
    "        # if element found return true\n",
    "        if (arr[mid] == K):\n",
    "            return True\n",
    " \n",
    "        # if middle less than K then skip\n",
    "        # the left part of the array\n",
    "        # else skip the right part\n",
    "        if (arr[mid] < K):\n",
    "            low = mid + 1\n",
    "        else:\n",
    "            high = mid - 1\n",
    " \n",
    "    # if not found return false\n",
    "    return False\n",
    " \n",
    "# Function to search an element in a matrix based on Divide and conquer approach\n",
    "\n",
    "def searchMatrix(matrix, K):\n",
    "    low = 0\n",
    "    high = M - 1\n",
    "    while (low <= high):\n",
    "        mid = low + int((high - low) / 2)\n",
    " \n",
    "        # if the element lies in the range\n",
    "        # of this row then call\n",
    "        # 1-D binary search on this row\n",
    "        if (K >= matrix[mid][0] and\n",
    "            K <= matrix[mid][N - 1]):\n",
    "            return binarySearch1D(matrix[mid], K)\n",
    " \n",
    "        # if the element is less than the\n",
    "        # starting element of that row then\n",
    "        # search in upper rows else search\n",
    "        # in the lower rows\n",
    "        if (K < matrix[mid][0]):\n",
    "            high = mid - 1\n",
    "        else:\n",
    "            low = mid + 1\n",
    " \n",
    "    # if not found\n",
    "    return False\n",
    " \n",
    "# Driver code\n",
    "if __name__ == '__main__':\n",
    "    matrix = [[1, 3, 5, 7],\n",
    "              [10, 11, 16, 20],\n",
    "              [23, 30, 34, 50]]\n",
    "    K = 3\n",
    "    if (searchMatrix(matrix, K)):\n",
    "        print(\"True\")\n",
    "    else:\n",
    "        print(\"False\")"
   ]
  },
  {
   "cell_type": "code",
   "execution_count": null,
   "id": "6f309747",
   "metadata": {},
   "outputs": [],
   "source": [
    "\n",
    "💡 **Question 3**\n",
    "\n",
    "Given an array of integers arr, return *true if and only if it is a valid mountain array*.\n",
    "\n",
    "Recall that arr is a mountain array if and only if:\n",
    "\n",
    "- arr.length >= 3\n",
    "- There exists some i with 0 < i < arr.length - 1 such that:\n",
    "    - arr[0] < arr[1] < ... < arr[i - 1] < arr[i]\n",
    "    - arr[i] > arr[i + 1] > ... > arr[arr.length - 1]\n",
    "    \n",
    "**Example 1:**\n",
    "\n",
    "Input: arr = [2,1]\n",
    "\n",
    "Output: false"
   ]
  },
  {
   "cell_type": "code",
   "execution_count": 16,
   "id": "f6757971",
   "metadata": {},
   "outputs": [
    {
     "name": "stdout",
     "output_type": "stream",
     "text": [
      "false\n"
     ]
    }
   ],
   "source": [
    "\n",
    "# Python 3 program to check if the given array is mountain array or not\n",
    "\n",
    "def isMountainArray(arr):\n",
    " \n",
    "    if (len(arr) < 3):\n",
    "        return False\n",
    "    flag = 0\n",
    "    i = 0\n",
    "    for i in range(1, len(arr)):\n",
    "        if (arr[i] <= arr[i - 1]):\n",
    "            break\n",
    " \n",
    "    if (i == len(arr) or i == 1):\n",
    "        return False\n",
    " \n",
    "    while i < len(arr):\n",
    "        if (arr[i] >= arr[i - 1]):\n",
    "            break\n",
    "        i += 1\n",
    "    return i == len(arr)\n",
    " \n",
    "# Driver Code\n",
    "if __name__ == \"__main__\":\n",
    " \n",
    "    arr = [2, 1]\n",
    "    if (isMountainArray(arr)):\n",
    "        print(\"true\")\n",
    "    else:\n",
    "        print(\"false\")"
   ]
  },
  {
   "cell_type": "code",
   "execution_count": null,
   "id": "989ff904",
   "metadata": {},
   "outputs": [],
   "source": [
    "\n",
    "💡 **Question 4**\n",
    "\n",
    "Given a binary array nums, return *the maximum length of a contiguous subarray with an equal number of* 0 *and* 1.\n",
    "\n",
    "**Example 1:**\n",
    "\n",
    "**Input:** nums = [0,1]\n",
    "\n",
    "**Output:** 2\n",
    "\n",
    "**Explanation:**\n",
    "\n",
    "[0, 1] is the longest contiguous subarray with an equal number of 0 and 1.\n"
   ]
  },
  {
   "cell_type": "code",
   "execution_count": 18,
   "id": "bc126bd1",
   "metadata": {},
   "outputs": [
    {
     "name": "stdout",
     "output_type": "stream",
     "text": [
      "0 to 1\n"
     ]
    },
    {
     "data": {
      "text/plain": [
       "2"
      ]
     },
     "execution_count": 18,
     "metadata": {},
     "output_type": "execute_result"
    }
   ],
   "source": [
    "\n",
    "# A simple program to find the largest subarray with equal number of 0s and 1s\n",
    " \n",
    "# This function Prints the starting and ending\n",
    "# indexes of the largest subarray with equal\n",
    "# number of 0s and 1s. Also returns the size\n",
    "# of such subarray.\n",
    "\n",
    "def findSubArray(arr, n):\n",
    " \n",
    "    sum = 0\n",
    "    maxsize = -1\n",
    " \n",
    "    # Pick a starting point as i\n",
    " \n",
    "    for i in range(0, n-1):\n",
    "     \n",
    "        sum = -1 if(arr[i] == 0) else 1\n",
    " \n",
    "        # Consider all subarrays starting from i\n",
    " \n",
    "        for j in range(i + 1, n):\n",
    "         \n",
    "            sum = sum + (-1) if (arr[j] == 0) else sum + 1\n",
    " \n",
    "            # If this is a 0 sum subarray, then\n",
    "            # compare it with maximum size subarray\n",
    "            # calculated so far\n",
    " \n",
    "            if (sum == 0 and maxsize < j-i + 1):\n",
    "                 \n",
    "                maxsize = j - i + 1\n",
    "                startindex = i\n",
    "             \n",
    "         \n",
    "     \n",
    "    if (maxsize == -1):\n",
    "        print(\"No such subarray\");\n",
    "    else:\n",
    "        print(startindex, \"to\", startindex + maxsize-1);\n",
    " \n",
    "    return maxsize\n",
    " \n",
    "# Driver program\n",
    "arr = [0,1]\n",
    "size = len(arr)\n",
    "findSubArray(arr, size)"
   ]
  },
  {
   "cell_type": "markdown",
   "id": "fda49a1b",
   "metadata": {},
   "source": [
    "\n",
    "💡 **Question 5**\n",
    "\n",
    "The **product sum** of two equal-length arrays a and b is equal to the sum of a[i] * b[i] for all 0 <= i < a.length (**0-indexed**).\n",
    "\n",
    "- For example, if a = [1,2,3,4] and b = [5,2,3,1], the **product sum** would be 1*5 + 2*2 + 3*3 + 4*1 = 22.\n",
    "\n",
    "Given two arrays nums1 and nums2 of length n, return *the **minimum product sum** if you are allowed to **rearrange** the **order** of the elements in* nums1.\n",
    "\n",
    "**Example 1:**\n",
    "\n",
    "**Input:** nums1 = [5,3,4,2], nums2 = [4,2,2,5]\n",
    "\n",
    "**Output:** 40\n",
    "\n",
    "**Explanation:**\n",
    "\n",
    "We can rearrange nums1 to become [3,5,4,2]. The product sum of [3,5,4,2] and [4,2,2,5] is 3*4 + 5*2 + 4*2 + 2*5 = 40.\n"
   ]
  },
  {
   "cell_type": "code",
   "execution_count": 20,
   "id": "3dadaeab",
   "metadata": {},
   "outputs": [
    {
     "name": "stdout",
     "output_type": "stream",
     "text": [
      "40\n"
     ]
    }
   ],
   "source": [
    "\n",
    "# Python program to calculate minimum sum of product of two arrays.\n",
    " \n",
    "def minValue(nums1, nums2, n):\n",
    " \n",
    "    # Sort A and B so that minimum and maximum\n",
    "    # value can easily be fetched.\n",
    "    nums1.sort()\n",
    "    nums2.sort()\n",
    " \n",
    "    # Multiplying minimum value of nums1 and maximum value of nums2\n",
    "    result = 0\n",
    "    for i in range(n):\n",
    "        result += (nums1[i] * nums2[n - i - 1])\n",
    " \n",
    "    return result\n",
    " \n",
    " \n",
    "# Driver program\n",
    "\n",
    "nums1 = [5,3,4,2]\n",
    "nums2 = [4,2,2,5]\n",
    "n = len(nums1)\n",
    "print (minValue(nums1, nums2, n))"
   ]
  },
  {
   "cell_type": "markdown",
   "id": "03b22694",
   "metadata": {},
   "source": [
    "\n",
    "💡 **Question 6**\n",
    "\n",
    "An integer array original is transformed into a **doubled** array changed by appending **twice the value** of every element in original, and then randomly **shuffling** the resulting array.\n",
    "\n",
    "Given an array changed, return original *if* changed *is a **doubled** array. If* changed *is not a **doubled** array, return an empty array. The elements in* original *may be returned in **any** order*.\n",
    "\n",
    "**Example 1:**\n",
    "\n",
    "**Input:** changed = [1,3,4,2,6,8]\n",
    "\n",
    "**Output:** [1,3,4]\n",
    "\n",
    "**Explanation:** One possible original array could be [1,3,4]:\n",
    "\n",
    "- Twice the value of 1 is 1 * 2 = 2.\n",
    "- Twice the value of 3 is 3 * 2 = 6.\n",
    "- Twice the value of 4 is 4 * 2 = 8.\n",
    "\n",
    "Other original arrays could be [4,3,1] or [3,1,4].\n"
   ]
  },
  {
   "cell_type": "code",
   "execution_count": 22,
   "id": "32eea7f4",
   "metadata": {},
   "outputs": [
    {
     "name": "stdout",
     "output_type": "stream",
     "text": [
      "1 3 4 "
     ]
    }
   ],
   "source": [
    "\n",
    "# Python program to find the original array from the doubled array\n",
    "\n",
    "def findOriginal(arr):\n",
    " \n",
    "    # Stores the numbers and their frequency\n",
    "    numFreq = {}\n",
    " \n",
    "    # Add number with their frequencies in the hashmap\n",
    "    \n",
    "    for i in range(0, len(arr)):\n",
    "        if (arr[i] in numFreq):\n",
    "            numFreq[arr[i]] += 1\n",
    "        else:\n",
    "            numFreq[arr[i]] = 1\n",
    " \n",
    "    # Sort the array\n",
    "    arr.sort()\n",
    " \n",
    "    # Initialize an arraylist\n",
    "    res = []\n",
    " \n",
    "    for i in range(0, len(arr)):\n",
    "       \n",
    "        # Get the frequency of the number\n",
    "        freq = numFreq[arr[i]]\n",
    "        if (freq > 0):\n",
    "           \n",
    "            # Element is of original array\n",
    "            res.append(arr[i])\n",
    " \n",
    "            # Decrement the frequency of the number\n",
    "            numFreq[arr[i]] -= 1\n",
    " \n",
    "            twice = 2 * arr[i]\n",
    " \n",
    "            # Decrement the frequency of the number having double value\n",
    "            numFreq[twice] -= 1\n",
    " \n",
    "    # Return the resultant string\n",
    "    return res\n",
    " \n",
    "# Driver Code\n",
    "arr = [1,3,4,2,6,8]\n",
    "res = findOriginal(arr)\n",
    " \n",
    "# Print the result list\n",
    "for i in range(0, len(res)):\n",
    "    print(res[i], end=\" \")"
   ]
  },
  {
   "cell_type": "code",
   "execution_count": null,
   "id": "59689907",
   "metadata": {},
   "outputs": [],
   "source": [
    "\n",
    "💡 **Question 7**\n",
    "\n",
    "Given a positive integer n, generate an n x n matrix filled with elements from 1 to n2 in spiral order.\n",
    "\n",
    "**Example 1:**\n",
    "    \n",
    "**Input:** n = 3\n",
    "\n",
    "**Output:** [[1,2,3],[8,9,4],[7,6,5]]"
   ]
  },
  {
   "cell_type": "code",
   "execution_count": 26,
   "id": "b07a126e",
   "metadata": {},
   "outputs": [
    {
     "name": "stdout",
     "output_type": "stream",
     "text": [
      "[[1, 2, 3], [8, 9, 4], [7, 6, 5]]\n"
     ]
    }
   ],
   "source": [
    "\n",
    "def generateMatrix(n: int):\n",
    "    matrix = [[0] * n for _ in range(n)]\n",
    "    num = 1\n",
    "    row = 0\n",
    "    col = 0\n",
    "    direction = 0\n",
    "    dr = [0, 1, 0, -1]\n",
    "    dc = [1, 0, -1, 0]\n",
    "    while num <= n * n:\n",
    "        matrix[row][col] = num\n",
    "        num += 1\n",
    "        nextRow = row + dr[direction]\n",
    "        nextCol = col + dc[direction]\n",
    "        if nextRow < 0 or nextRow >= n or nextCol < 0 or nextCol >= n or matrix[nextRow][nextCol] != 0:\n",
    "            direction = (direction + 1) % 4\n",
    "        row += dr[direction]\n",
    "        col += dc[direction]\n",
    "    return matrix\n",
    "\n",
    "n = 3\n",
    "print(generateMatrix(n))"
   ]
  },
  {
   "cell_type": "markdown",
   "id": "26c1d9e2",
   "metadata": {},
   "source": [
    "\n",
    "💡 **Question 8**\n",
    "\n",
    "Given two [sparse matrices](https://en.wikipedia.org/wiki/Sparse_matrix) mat1 of size m x k and mat2 of size k x n, return the result of mat1 x mat2. You may assume that multiplication is always possible.\n",
    "\n",
    "**Example 1:**\n",
    "\n",
    "**Input:** mat1 = [[1,0,0],[-1,0,3]], mat2 = [[7,0,0],[0,0,0],[0,0,1]]\n",
    "\n",
    "**Output:** [[7,0,0],[-7,0,3]]"
   ]
  },
  {
   "cell_type": "code",
   "execution_count": null,
   "id": "6ffe7db2",
   "metadata": {},
   "outputs": [],
   "source": [
    "class Solution:\n",
    "    def multiply(self, mat1: List[List[int]], mat2: List[List[int]]) -> List[List[int]]:\n",
    "        r1, c1, c2 = len(mat1), len(mat1[0]), len(mat2[0])\n",
    "        res = [[0] * c2 for _ in range(r1)]\n",
    "        for i in range(r1):\n",
    "            for j in range(c2):\n",
    "                for k in range(c1):\n",
    "                    res[i][j] += mat1[i][k] * mat2[k][j]\n",
    "        return res"
   ]
  }
 ],
 "metadata": {
  "kernelspec": {
   "display_name": "Python 3 (ipykernel)",
   "language": "python",
   "name": "python3"
  },
  "language_info": {
   "codemirror_mode": {
    "name": "ipython",
    "version": 3
   },
   "file_extension": ".py",
   "mimetype": "text/x-python",
   "name": "python",
   "nbconvert_exporter": "python",
   "pygments_lexer": "ipython3",
   "version": "3.9.13"
  }
 },
 "nbformat": 4,
 "nbformat_minor": 5
}
